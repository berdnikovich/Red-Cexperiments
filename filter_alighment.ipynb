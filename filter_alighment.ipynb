{
 "cells": [
  {
   "cell_type": "code",
   "execution_count": null,
   "metadata": {},
   "outputs": [],
   "source": [
    "import pysam\n",
    "\n",
    "tofile = open('/home/berdnikovich/rna/results/K562_2_AG_7_S1_rna_NH.txt', 'w')\n",
    "no_NH = open('/home/berdnikovich/rna/results/K562_2_AG_7_S1_rna_noNH.txt', 'w')\n",
    "\n",
    "def find_NH(li):\n",
    "    for i in li:\n",
    "        if i[0] == 'NH':\n",
    "            return i[1]\n",
    "\n",
    "samfile = pysam.AlignmentFile(\"/home/berdnikovich/rna/K562_2_AG_7_S1_rna.sam\", \"r\")\n",
    "ind = '0'\n",
    "for i in samfile:\n",
    "    if ind == i.query_name:\n",
    "        continue\n",
    "    else:\n",
    "        ind = i.query_name\n",
    "        if find_NH(i.tags) == None:\n",
    "            no_NH.write('{0}\\t{1}\\n'.format(i.query_name, find_NH(i.tags)))\n",
    "            \n",
    "        else:\n",
    "            tofile.write('{0}\\t{1}\\n'.format(i.query_name, find_NH(i.tags)))\n",
    "\n",
    "tofile.close()\n",
    "no_NH.close()"
   ]
  },
  {
   "cell_type": "code",
   "execution_count": 1,
   "metadata": {},
   "outputs": [],
   "source": [
    "import pysam"
   ]
  },
  {
   "cell_type": "code",
   "execution_count": 2,
   "metadata": {},
   "outputs": [],
   "source": [
    "samfile = pysam.AlignmentFile(\"K562_2_AG_7_S1_rna_short.sam\", \"r\")"
   ]
  },
  {
   "cell_type": "code",
   "execution_count": 1,
   "metadata": {},
   "outputs": [],
   "source": [
    "a=5"
   ]
  },
  {
   "cell_type": "code",
   "execution_count": 2,
   "metadata": {},
   "outputs": [],
   "source": [
    "b=6"
   ]
  },
  {
   "cell_type": "code",
   "execution_count": 3,
   "metadata": {},
   "outputs": [],
   "source": [
    "c=b==a"
   ]
  },
  {
   "cell_type": "code",
   "execution_count": 4,
   "metadata": {},
   "outputs": [
    {
     "data": {
      "text/plain": [
       "False"
      ]
     },
     "execution_count": 4,
     "metadata": {},
     "output_type": "execute_result"
    }
   ],
   "source": [
    "c"
   ]
  },
  {
   "cell_type": "code",
   "execution_count": 5,
   "metadata": {},
   "outputs": [
    {
     "data": {
      "text/plain": [
       "6"
      ]
     },
     "execution_count": 5,
     "metadata": {},
     "output_type": "execute_result"
    }
   ],
   "source": [
    "b"
   ]
  },
  {
   "cell_type": "code",
   "execution_count": 6,
   "metadata": {},
   "outputs": [
    {
     "data": {
      "text/plain": [
       "5"
      ]
     },
     "execution_count": 6,
     "metadata": {},
     "output_type": "execute_result"
    }
   ],
   "source": [
    "a"
   ]
  },
  {
   "cell_type": "code",
   "execution_count": 20,
   "metadata": {},
   "outputs": [],
   "source": [
    "import numpy as np\n",
    "import pandas as pd\n",
    "#from sys import argv\n",
    "\n",
    "#if not len(argv)==5:\n",
    "#    raise Exception(\"Number of arguments is too small\")\n",
    "\n",
    "filename_bed    = 'head_first_ref'\n",
    "filename_rsites = 'restr_frag'\n",
    "strand  = '+'\n",
    "outfile = 'my_sites'\n",
    "\n"
   ]
  },
  {
   "cell_type": "code",
   "execution_count": 21,
   "metadata": {},
   "outputs": [],
   "source": [
    "try:\n",
    "    rsites = pd.read_csv(filename_rsites, header=None, sep='\\t')\n",
    "except pd.errors.EmptyDataError:\n",
    "    rsites = pd.DataFrame(columns=np.arange(6))\n",
    "rsites.columns = ['chrom', 'start', 'end', 'name', '_', 'strand']\n",
    "rsites = rsites.loc[rsites.strand == strand, :].sort_values(['chrom', 'start'])\n",
    "rsites_grouped = rsites.groupby('chrom')\n",
    "\n"
   ]
  },
  {
   "cell_type": "code",
   "execution_count": 22,
   "metadata": {},
   "outputs": [],
   "source": [
    "try:\n",
    "    bed_file = pd.read_csv(filename_bed, sep='\\t', header=None)\n",
    "except pd.errors.EmptyDataError:\n",
    "    bed_file = pd.DataFrame(columns=np.arange(7))\n",
    "bed_file.columns = ['chrom', 'start', 'end', 'read_id', 'q', 'strand', 'cigar']\n",
    "\n",
    "chs = bed_file.chrom.values.astype(int)\n",
    "ids = bed_file.read_id.values.astype(str)\n",
    "bgn = bed_file.start.values.astype(int)\n",
    "end = bed_file.end.values.astype(int)\n",
    "l = len(chs)\n",
    "\n"
   ]
  },
  {
   "cell_type": "markdown",
   "metadata": {},
   "source": [
    "нужно переименовать хромосомы \n",
    ">NC_000023.11 Homo sapiens chromosome X, GRCh38 Primary Assembly\n",
    ">NC_000024.10 Homo sapiens chromosome Y, GRCh38 Primary Assembly\n",
    "то есть \n",
    "X==23\n",
    "Y==24"
   ]
  },
  {
   "cell_type": "code",
   "execution_count": 23,
   "metadata": {},
   "outputs": [
    {
     "data": {
      "text/html": [
       "<div>\n",
       "<style scoped>\n",
       "    .dataframe tbody tr th:only-of-type {\n",
       "        vertical-align: middle;\n",
       "    }\n",
       "\n",
       "    .dataframe tbody tr th {\n",
       "        vertical-align: top;\n",
       "    }\n",
       "\n",
       "    .dataframe thead th {\n",
       "        text-align: right;\n",
       "    }\n",
       "</style>\n",
       "<table border=\"1\" class=\"dataframe\">\n",
       "  <thead>\n",
       "    <tr style=\"text-align: right;\">\n",
       "      <th></th>\n",
       "      <th>chrom</th>\n",
       "      <th>start</th>\n",
       "      <th>end</th>\n",
       "      <th>read_id</th>\n",
       "      <th>q</th>\n",
       "      <th>strand</th>\n",
       "      <th>cigar</th>\n",
       "    </tr>\n",
       "  </thead>\n",
       "  <tbody>\n",
       "    <tr>\n",
       "      <td>0</td>\n",
       "      <td>16</td>\n",
       "      <td>60461938</td>\n",
       "      <td>60461962</td>\n",
       "      <td>D00795:30:CA2UTANXX:1:1107:1327:1890</td>\n",
       "      <td>1</td>\n",
       "      <td>-</td>\n",
       "      <td>24M</td>\n",
       "    </tr>\n",
       "    <tr>\n",
       "      <td>1</td>\n",
       "      <td>6</td>\n",
       "      <td>98309299</td>\n",
       "      <td>98309323</td>\n",
       "      <td>D00795:30:CA2UTANXX:1:1107:1327:1890</td>\n",
       "      <td>1</td>\n",
       "      <td>-</td>\n",
       "      <td>24M</td>\n",
       "    </tr>\n",
       "    <tr>\n",
       "      <td>2</td>\n",
       "      <td>10</td>\n",
       "      <td>65974370</td>\n",
       "      <td>65974394</td>\n",
       "      <td>D00795:30:CA2UTANXX:1:1107:1327:1890</td>\n",
       "      <td>1</td>\n",
       "      <td>+</td>\n",
       "      <td>24M</td>\n",
       "    </tr>\n",
       "    <tr>\n",
       "      <td>3</td>\n",
       "      <td>11</td>\n",
       "      <td>84775548</td>\n",
       "      <td>84775572</td>\n",
       "      <td>D00795:30:CA2UTANXX:1:1107:1327:1890</td>\n",
       "      <td>1</td>\n",
       "      <td>+</td>\n",
       "      <td>24M</td>\n",
       "    </tr>\n",
       "    <tr>\n",
       "      <td>4</td>\n",
       "      <td>7</td>\n",
       "      <td>89811359</td>\n",
       "      <td>89811383</td>\n",
       "      <td>D00795:30:CA2UTANXX:1:1107:1327:1890</td>\n",
       "      <td>1</td>\n",
       "      <td>+</td>\n",
       "      <td>24M</td>\n",
       "    </tr>\n",
       "    <tr>\n",
       "      <td>...</td>\n",
       "      <td>...</td>\n",
       "      <td>...</td>\n",
       "      <td>...</td>\n",
       "      <td>...</td>\n",
       "      <td>...</td>\n",
       "      <td>...</td>\n",
       "      <td>...</td>\n",
       "    </tr>\n",
       "    <tr>\n",
       "      <td>195</td>\n",
       "      <td>5</td>\n",
       "      <td>134769920</td>\n",
       "      <td>134769943</td>\n",
       "      <td>D00795:30:CA2UTANXX:1:1107:2109:1967</td>\n",
       "      <td>1</td>\n",
       "      <td>+</td>\n",
       "      <td>23M</td>\n",
       "    </tr>\n",
       "    <tr>\n",
       "      <td>196</td>\n",
       "      <td>11</td>\n",
       "      <td>18477193</td>\n",
       "      <td>18477216</td>\n",
       "      <td>D00795:30:CA2UTANXX:1:1107:2109:1967</td>\n",
       "      <td>1</td>\n",
       "      <td>-</td>\n",
       "      <td>23M</td>\n",
       "    </tr>\n",
       "    <tr>\n",
       "      <td>197</td>\n",
       "      <td>1</td>\n",
       "      <td>169396288</td>\n",
       "      <td>169396311</td>\n",
       "      <td>D00795:30:CA2UTANXX:1:1107:2109:1967</td>\n",
       "      <td>1</td>\n",
       "      <td>-</td>\n",
       "      <td>23M</td>\n",
       "    </tr>\n",
       "    <tr>\n",
       "      <td>198</td>\n",
       "      <td>11</td>\n",
       "      <td>43706278</td>\n",
       "      <td>43706301</td>\n",
       "      <td>D00795:30:CA2UTANXX:1:1107:2109:1967</td>\n",
       "      <td>1</td>\n",
       "      <td>-</td>\n",
       "      <td>23M</td>\n",
       "    </tr>\n",
       "    <tr>\n",
       "      <td>199</td>\n",
       "      <td>9</td>\n",
       "      <td>77837286</td>\n",
       "      <td>77837309</td>\n",
       "      <td>D00795:30:CA2UTANXX:1:1107:2109:1967</td>\n",
       "      <td>1</td>\n",
       "      <td>-</td>\n",
       "      <td>23M</td>\n",
       "    </tr>\n",
       "  </tbody>\n",
       "</table>\n",
       "<p>200 rows × 7 columns</p>\n",
       "</div>"
      ],
      "text/plain": [
       "     chrom      start        end                               read_id  q  \\\n",
       "0       16   60461938   60461962  D00795:30:CA2UTANXX:1:1107:1327:1890  1   \n",
       "1        6   98309299   98309323  D00795:30:CA2UTANXX:1:1107:1327:1890  1   \n",
       "2       10   65974370   65974394  D00795:30:CA2UTANXX:1:1107:1327:1890  1   \n",
       "3       11   84775548   84775572  D00795:30:CA2UTANXX:1:1107:1327:1890  1   \n",
       "4        7   89811359   89811383  D00795:30:CA2UTANXX:1:1107:1327:1890  1   \n",
       "..     ...        ...        ...                                   ... ..   \n",
       "195      5  134769920  134769943  D00795:30:CA2UTANXX:1:1107:2109:1967  1   \n",
       "196     11   18477193   18477216  D00795:30:CA2UTANXX:1:1107:2109:1967  1   \n",
       "197      1  169396288  169396311  D00795:30:CA2UTANXX:1:1107:2109:1967  1   \n",
       "198     11   43706278   43706301  D00795:30:CA2UTANXX:1:1107:2109:1967  1   \n",
       "199      9   77837286   77837309  D00795:30:CA2UTANXX:1:1107:2109:1967  1   \n",
       "\n",
       "    strand cigar  \n",
       "0        -   24M  \n",
       "1        -   24M  \n",
       "2        +   24M  \n",
       "3        +   24M  \n",
       "4        +   24M  \n",
       "..     ...   ...  \n",
       "195      +   23M  \n",
       "196      -   23M  \n",
       "197      -   23M  \n",
       "198      -   23M  \n",
       "199      -   23M  \n",
       "\n",
       "[200 rows x 7 columns]"
      ]
     },
     "execution_count": 23,
     "metadata": {},
     "output_type": "execute_result"
    }
   ],
   "source": [
    "bed_file"
   ]
  },
  {
   "cell_type": "code",
   "execution_count": 24,
   "metadata": {},
   "outputs": [
    {
     "data": {
      "text/html": [
       "<div>\n",
       "<style scoped>\n",
       "    .dataframe tbody tr th:only-of-type {\n",
       "        vertical-align: middle;\n",
       "    }\n",
       "\n",
       "    .dataframe tbody tr th {\n",
       "        vertical-align: top;\n",
       "    }\n",
       "\n",
       "    .dataframe thead th {\n",
       "        text-align: right;\n",
       "    }\n",
       "</style>\n",
       "<table border=\"1\" class=\"dataframe\">\n",
       "  <thead>\n",
       "    <tr style=\"text-align: right;\">\n",
       "      <th></th>\n",
       "      <th>chrom</th>\n",
       "      <th>start</th>\n",
       "      <th>end</th>\n",
       "      <th>name</th>\n",
       "      <th>_</th>\n",
       "      <th>strand</th>\n",
       "    </tr>\n",
       "  </thead>\n",
       "  <tbody>\n",
       "    <tr>\n",
       "      <td>0</td>\n",
       "      <td>1</td>\n",
       "      <td>10802</td>\n",
       "      <td>10802</td>\n",
       "      <td>NlaIII_1</td>\n",
       "      <td>.</td>\n",
       "      <td>+</td>\n",
       "    </tr>\n",
       "    <tr>\n",
       "      <td>1</td>\n",
       "      <td>1</td>\n",
       "      <td>10876</td>\n",
       "      <td>10876</td>\n",
       "      <td>NlaIII_2</td>\n",
       "      <td>.</td>\n",
       "      <td>+</td>\n",
       "    </tr>\n",
       "    <tr>\n",
       "      <td>2</td>\n",
       "      <td>1</td>\n",
       "      <td>10952</td>\n",
       "      <td>10952</td>\n",
       "      <td>NlaIII_3</td>\n",
       "      <td>.</td>\n",
       "      <td>+</td>\n",
       "    </tr>\n",
       "    <tr>\n",
       "      <td>3</td>\n",
       "      <td>1</td>\n",
       "      <td>11717</td>\n",
       "      <td>11717</td>\n",
       "      <td>NlaIII_4</td>\n",
       "      <td>.</td>\n",
       "      <td>+</td>\n",
       "    </tr>\n",
       "    <tr>\n",
       "      <td>4</td>\n",
       "      <td>1</td>\n",
       "      <td>11756</td>\n",
       "      <td>11756</td>\n",
       "      <td>NlaIII_5</td>\n",
       "      <td>.</td>\n",
       "      <td>+</td>\n",
       "    </tr>\n",
       "    <tr>\n",
       "      <td>...</td>\n",
       "      <td>...</td>\n",
       "      <td>...</td>\n",
       "      <td>...</td>\n",
       "      <td>...</td>\n",
       "      <td>...</td>\n",
       "      <td>...</td>\n",
       "    </tr>\n",
       "    <tr>\n",
       "      <td>2713860</td>\n",
       "      <td>3</td>\n",
       "      <td>104220951</td>\n",
       "      <td>104220951</td>\n",
       "      <td>NlaIII_2713861</td>\n",
       "      <td>.</td>\n",
       "      <td>+</td>\n",
       "    </tr>\n",
       "    <tr>\n",
       "      <td>2713861</td>\n",
       "      <td>3</td>\n",
       "      <td>104221004</td>\n",
       "      <td>104221004</td>\n",
       "      <td>NlaIII_2713862</td>\n",
       "      <td>.</td>\n",
       "      <td>+</td>\n",
       "    </tr>\n",
       "    <tr>\n",
       "      <td>2713862</td>\n",
       "      <td>3</td>\n",
       "      <td>104221038</td>\n",
       "      <td>104221038</td>\n",
       "      <td>NlaIII_2713863</td>\n",
       "      <td>.</td>\n",
       "      <td>+</td>\n",
       "    </tr>\n",
       "    <tr>\n",
       "      <td>2713863</td>\n",
       "      <td>3</td>\n",
       "      <td>104221082</td>\n",
       "      <td>104221082</td>\n",
       "      <td>NlaIII_2713864</td>\n",
       "      <td>.</td>\n",
       "      <td>+</td>\n",
       "    </tr>\n",
       "    <tr>\n",
       "      <td>2713864</td>\n",
       "      <td>3</td>\n",
       "      <td>104221613</td>\n",
       "      <td>104221613</td>\n",
       "      <td>NlaIII_2713865</td>\n",
       "      <td>.</td>\n",
       "      <td>+</td>\n",
       "    </tr>\n",
       "  </tbody>\n",
       "</table>\n",
       "<p>2713865 rows × 6 columns</p>\n",
       "</div>"
      ],
      "text/plain": [
       "         chrom      start        end            name  _ strand\n",
       "0            1      10802      10802        NlaIII_1  .      +\n",
       "1            1      10876      10876        NlaIII_2  .      +\n",
       "2            1      10952      10952        NlaIII_3  .      +\n",
       "3            1      11717      11717        NlaIII_4  .      +\n",
       "4            1      11756      11756        NlaIII_5  .      +\n",
       "...        ...        ...        ...             ... ..    ...\n",
       "2713860      3  104220951  104220951  NlaIII_2713861  .      +\n",
       "2713861      3  104221004  104221004  NlaIII_2713862  .      +\n",
       "2713862      3  104221038  104221038  NlaIII_2713863  .      +\n",
       "2713863      3  104221082  104221082  NlaIII_2713864  .      +\n",
       "2713864      3  104221613  104221613  NlaIII_2713865  .      +\n",
       "\n",
       "[2713865 rows x 6 columns]"
      ]
     },
     "execution_count": 24,
     "metadata": {},
     "output_type": "execute_result"
    }
   ],
   "source": [
    "rsites"
   ]
  },
  {
   "cell_type": "code",
   "execution_count": 25,
   "metadata": {},
   "outputs": [
    {
     "name": "stdout",
     "output_type": "stream",
     "text": [
      "<class 'int'>\n",
      "<class 'numpy.ndarray'>\n",
      "<class 'int'>\n",
      "<class 'numpy.ndarray'>\n",
      "<class 'int'>\n",
      "<class 'numpy.ndarray'>\n"
     ]
    }
   ],
   "source": [
    "dct = {}\n",
    "for k in ['start_left', 'start_right', 'end_left', 'end_right']:\n",
    "    dct[k] = np.full(l, -1).astype(int)\n",
    "\n",
    "for ch in rsites_grouped.groups.keys():\n",
    "    print(type(ch))\n",
    "    print(type(chs))\n",
    "    rs = np.concatenate( [[-1e10], rsites_grouped.get_group(ch)['start'].values, [1e10]] )\n",
    "    mask = chs == ch\n",
    "\n",
    "    idx = np.digitize(bgn[mask], rs)\n",
    "    bgns = rs[idx - 1]\n",
    "    ends = rs[idx]\n",
    "    dct['start_left'][mask] = bgns - bgn[mask]\n",
    "    dct['start_right'][mask] = ends - bgn[mask]\n",
    "\n",
    "    idx = np.digitize(end[mask], rs)\n",
    "    bgns = rs[idx - 1]\n",
    "    ends = rs[idx]\n",
    "    dct['end_left'][mask] = bgns - end[mask]\n",
    "    dct['end_right'][mask] = ends - end[mask]\n",
    "\n",
    "with open(outfile, 'a') as outf:\n",
    "    for i in range(l):\n",
    "        outf.write(\n",
    "            ids[i] + \" \" + \\\n",
    "            str(dct['start_left'][i]) + \" \" + \\\n",
    "            str(dct['start_right'][i]) + \" \" + \\\n",
    "            str(dct['end_left'][i]) + \" \" + \\\n",
    "            str(dct['end_right'][i]) + \"\\n\")"
   ]
  },
  {
   "cell_type": "code",
   "execution_count": 16,
   "metadata": {},
   "outputs": [
    {
     "data": {
      "text/plain": [
       "int"
      ]
     },
     "execution_count": 16,
     "metadata": {},
     "output_type": "execute_result"
    }
   ],
   "source": [
    "type(a)"
   ]
  },
  {
   "cell_type": "code",
   "execution_count": 26,
   "metadata": {},
   "outputs": [
    {
     "data": {
      "text/plain": [
       "'my_sites'"
      ]
     },
     "execution_count": 26,
     "metadata": {},
     "output_type": "execute_result"
    }
   ],
   "source": [
    "outfile"
   ]
  },
  {
   "cell_type": "code",
   "execution_count": null,
   "metadata": {},
   "outputs": [],
   "source": []
  }
 ],
 "metadata": {
  "kernelspec": {
   "display_name": "Python 3",
   "language": "python",
   "name": "python3"
  },
  "language_info": {
   "codemirror_mode": {
    "name": "ipython",
    "version": 3
   },
   "file_extension": ".py",
   "mimetype": "text/x-python",
   "name": "python",
   "nbconvert_exporter": "python",
   "pygments_lexer": "ipython3",
   "version": "3.7.4"
  }
 },
 "nbformat": 4,
 "nbformat_minor": 2
}
