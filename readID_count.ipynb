{
 "cells": [
  {
   "cell_type": "markdown",
   "metadata": {},
   "source": [
    "Запишем файл с именами ридов и количеством их мест для картирования (работает с отсортированным файлом выравнивания)"
   ]
  },
  {
   "cell_type": "code",
   "execution_count": 9,
   "metadata": {},
   "outputs": [],
   "source": [
    "import pysam"
   ]
  },
  {
   "cell_type": "code",
   "execution_count": 10,
   "metadata": {},
   "outputs": [],
   "source": [
    "samfile = pysam.AlignmentFile(\"K562_2_AG_7_S1_rna_short.sam\", \"r\")\n",
    "to_file  = open('my_ID_count.bed', 'w')"
   ]
  },
  {
   "cell_type": "code",
   "execution_count": 11,
   "metadata": {},
   "outputs": [],
   "source": [
    "ind = 0\n",
    "count = 0\n",
    "for i in samfile:\n",
    "    if i.query_name == ind:\n",
    "        count += 1\n",
    "    else:\n",
    "        to_file.write('{0}\\t{1}\\n'.format(ind, count))\n",
    "        count = 1\n",
    "        ind = i.query_name"
   ]
  },
  {
   "cell_type": "markdown",
   "metadata": {},
   "source": [
    "Сопоставляем ДНК части РНК частям, подаем на вход файлы 1 файл маленький, второй файл - большой"
   ]
  },
  {
   "cell_type": "code",
   "execution_count": 24,
   "metadata": {},
   "outputs": [],
   "source": [
    "from sys import argv"
   ]
  },
  {
   "cell_type": "code",
   "execution_count": 17,
   "metadata": {},
   "outputs": [],
   "source": [
    "little = argv[1]\n",
    "big = argv[2]"
   ]
  },
  {
   "cell_type": "code",
   "execution_count": 26,
   "metadata": {},
   "outputs": [],
   "source": [
    "frdna_file  = open('my_ID_count.bed', 'r')\n",
    "frrna_file = 'my_ID2_count.bed'#little\n",
    "#tot_file = open('my_ID_count1_count2.bed', 'w')"
   ]
  },
  {
   "cell_type": "code",
   "execution_count": null,
   "metadata": {},
   "outputs": [],
   "source": []
  },
  {
   "cell_type": "code",
   "execution_count": 27,
   "metadata": {},
   "outputs": [],
   "source": [
    "with open('my_ID_count1_count2.bed', 'w') as tot_file:\n",
    "    tot_file.write('{0}\\t{1}\\t{2}\\n'.format('readID', 'count_dna', 'count_rna'))\n",
    "    for i in frdna_file:\n",
    "        line = i.strip().split('\\t')\n",
    "        id1 = line[0]\n",
    "        with open(frrna_file, 'r') as fi:\n",
    "            for j in fi:\n",
    "                line2 = j.strip().split('\\t')\n",
    "                ids = line2[0]\n",
    "                if id1 == ids and (line[1], line2[1]) != ('1','1'):\n",
    "                    tot_file.write('{0}\\t{1}\\t{2}\\n'.format(id1, line[1], line2[1]))\n",
    "                    break\n",
    "                "
   ]
  },
  {
   "cell_type": "code",
   "execution_count": 28,
   "metadata": {},
   "outputs": [],
   "source": [
    "frdna_file.close()\n"
   ]
  },
  {
   "cell_type": "code",
   "execution_count": null,
   "metadata": {},
   "outputs": [],
   "source": []
  }
 ],
 "metadata": {
  "kernelspec": {
   "display_name": "Python 3",
   "language": "python",
   "name": "python3"
  },
  "language_info": {
   "codemirror_mode": {
    "name": "ipython",
    "version": 3
   },
   "file_extension": ".py",
   "mimetype": "text/x-python",
   "name": "python",
   "nbconvert_exporter": "python",
   "pygments_lexer": "ipython3",
   "version": "3.7.4"
  }
 },
 "nbformat": 4,
 "nbformat_minor": 2
}
