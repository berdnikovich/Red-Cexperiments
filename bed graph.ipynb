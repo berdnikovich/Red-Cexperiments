{
 "cells": [
  {
   "cell_type": "code",
   "execution_count": 2,
   "metadata": {},
   "outputs": [],
   "source": [
    "from sys import argv"
   ]
  },
  {
   "cell_type": "code",
   "execution_count": 3,
   "metadata": {},
   "outputs": [],
   "source": [
    "in_fi = 'chr_minus.bed'#argv[1]\n",
    "out_fi = 'extr_chr_minus.bed'#argv[2]\n",
    "coor = '5023354-5024222'#argv[3]"
   ]
  },
  {
   "cell_type": "code",
   "execution_count": 8,
   "metadata": {},
   "outputs": [],
   "source": [
    "cor = coor.split('-')\n",
    "from_i = int(cor[0])\n",
    "to_i = int(cor[1])\n"
   ]
  },
  {
   "cell_type": "code",
   "execution_count": 9,
   "metadata": {},
   "outputs": [],
   "source": [
    "with open(in_fi, 'r') as fi:\n",
    "    with open(out_fi, 'w') as ofi:\n",
    "        for i in fi:\n",
    "            i_ = i.strip().split('\\t')\n",
    "            froi = int(i_[1])\n",
    "            toi = int(i_[2])\n",
    "            if froi >= from_i and toi <= to_i:\n",
    "                ofi.write(i)"
   ]
  },
  {
   "cell_type": "code",
   "execution_count": null,
   "metadata": {},
   "outputs": [],
   "source": []
  }
 ],
 "metadata": {
  "kernelspec": {
   "display_name": "Python 3",
   "language": "python",
   "name": "python3"
  },
  "language_info": {
   "codemirror_mode": {
    "name": "ipython",
    "version": 3
   },
   "file_extension": ".py",
   "mimetype": "text/x-python",
   "name": "python",
   "nbconvert_exporter": "python",
   "pygments_lexer": "ipython3",
   "version": "3.7.4"
  }
 },
 "nbformat": 4,
 "nbformat_minor": 2
}
