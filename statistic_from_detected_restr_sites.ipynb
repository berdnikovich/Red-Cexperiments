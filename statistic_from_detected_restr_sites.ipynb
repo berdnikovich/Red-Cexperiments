{
 "cells": [
  {
   "cell_type": "markdown",
   "metadata": {},
   "source": [
    "Файл с описанием дистанций выглядит следующим образом"
   ]
  },
  {
   "cell_type": "code",
   "execution_count": null,
   "metadata": {},
   "outputs": [],
   "source": [
    "with open(outfile, 'a') as outf:\n",
    "    for i in range(l):\n",
    "        outf.write(\n",
    "            ids[i] + \" \" + \\\n",
    "            str(dct['start_left'][i]) + \" \" + \\\n",
    "            str(dct['start_right'][i]) + \" \" + \\\n",
    "            str(dct['end_left'][i]) + \" \" + \\\n",
    "            str(dct['end_right'][i]) + \"\\n\")"
   ]
  },
  {
   "cell_type": "markdown",
   "metadata": {},
   "source": []
  },
  {
   "cell_type": "markdown",
   "metadata": {},
   "source": [
    "Сначала запишем правильно названия хромосом в bed файле с рестрикц, фрагментами"
   ]
  },
  {
   "cell_type": "code",
   "execution_count": 2,
   "metadata": {},
   "outputs": [],
   "source": [
    "import numpy as np\n",
    "import pandas as pd\n",
    "from sys import argv"
   ]
  },
  {
   "cell_type": "code",
   "execution_count": 3,
   "metadata": {},
   "outputs": [],
   "source": [
    "filename_rsites = 'restr_fragshort.bed'\n",
    "strand  = '+'"
   ]
  },
  {
   "cell_type": "code",
   "execution_count": 7,
   "metadata": {},
   "outputs": [
    {
     "name": "stdout",
     "output_type": "stream",
     "text": [
      "hi\n"
     ]
    }
   ],
   "source": [
    "try:\n",
    "    rsites = pd.read_csv(filename_rsites, header=None, sep='\\t')\n",
    "    print('hi')\n",
    "except pd.errors.EmptyDataError:\n",
    "    rsites = pd.DataFrame(columns=np.arange(6))\n",
    "rsites.columns = ['chrom', 'start', 'end', 'name', '_', 'strand']\n",
    "rsites = rsites.loc[rsites.strand == strand, :].sort_values(['chrom', 'start'])\n",
    "rsites_grouped = rsites.groupby('chrom')"
   ]
  },
  {
   "cell_type": "code",
   "execution_count": 8,
   "metadata": {},
   "outputs": [
    {
     "data": {
      "text/html": [
       "<div>\n",
       "<style scoped>\n",
       "    .dataframe tbody tr th:only-of-type {\n",
       "        vertical-align: middle;\n",
       "    }\n",
       "\n",
       "    .dataframe tbody tr th {\n",
       "        vertical-align: top;\n",
       "    }\n",
       "\n",
       "    .dataframe thead th {\n",
       "        text-align: right;\n",
       "    }\n",
       "</style>\n",
       "<table border=\"1\" class=\"dataframe\">\n",
       "  <thead>\n",
       "    <tr style=\"text-align: right;\">\n",
       "      <th></th>\n",
       "      <th>chrom</th>\n",
       "      <th>start</th>\n",
       "      <th>end</th>\n",
       "      <th>name</th>\n",
       "      <th>_</th>\n",
       "      <th>strand</th>\n",
       "    </tr>\n",
       "  </thead>\n",
       "  <tbody>\n",
       "    <tr>\n",
       "      <td>0</td>\n",
       "      <td>NC_000001.11</td>\n",
       "      <td>10802</td>\n",
       "      <td>10802</td>\n",
       "      <td>NlaIII_1</td>\n",
       "      <td>.</td>\n",
       "      <td>+</td>\n",
       "    </tr>\n",
       "    <tr>\n",
       "      <td>1</td>\n",
       "      <td>NC_000001.11</td>\n",
       "      <td>10876</td>\n",
       "      <td>10876</td>\n",
       "      <td>NlaIII_2</td>\n",
       "      <td>.</td>\n",
       "      <td>+</td>\n",
       "    </tr>\n",
       "    <tr>\n",
       "      <td>2</td>\n",
       "      <td>NC_000001.11</td>\n",
       "      <td>10952</td>\n",
       "      <td>10952</td>\n",
       "      <td>NlaIII_3</td>\n",
       "      <td>.</td>\n",
       "      <td>+</td>\n",
       "    </tr>\n",
       "    <tr>\n",
       "      <td>3</td>\n",
       "      <td>NC_000001.11</td>\n",
       "      <td>11717</td>\n",
       "      <td>11717</td>\n",
       "      <td>NlaIII_4</td>\n",
       "      <td>.</td>\n",
       "      <td>+</td>\n",
       "    </tr>\n",
       "    <tr>\n",
       "      <td>4</td>\n",
       "      <td>NC_000001.11</td>\n",
       "      <td>11756</td>\n",
       "      <td>11756</td>\n",
       "      <td>NlaIII_5</td>\n",
       "      <td>.</td>\n",
       "      <td>+</td>\n",
       "    </tr>\n",
       "    <tr>\n",
       "      <td>...</td>\n",
       "      <td>...</td>\n",
       "      <td>...</td>\n",
       "      <td>...</td>\n",
       "      <td>...</td>\n",
       "      <td>...</td>\n",
       "      <td>...</td>\n",
       "    </tr>\n",
       "    <tr>\n",
       "      <td>995</td>\n",
       "      <td>NC_000001.11</td>\n",
       "      <td>259789</td>\n",
       "      <td>259789</td>\n",
       "      <td>NlaIII_996</td>\n",
       "      <td>.</td>\n",
       "      <td>+</td>\n",
       "    </tr>\n",
       "    <tr>\n",
       "      <td>996</td>\n",
       "      <td>NC_000001.11</td>\n",
       "      <td>260156</td>\n",
       "      <td>260156</td>\n",
       "      <td>NlaIII_997</td>\n",
       "      <td>.</td>\n",
       "      <td>+</td>\n",
       "    </tr>\n",
       "    <tr>\n",
       "      <td>997</td>\n",
       "      <td>NC_000001.11</td>\n",
       "      <td>260562</td>\n",
       "      <td>260562</td>\n",
       "      <td>NlaIII_998</td>\n",
       "      <td>.</td>\n",
       "      <td>+</td>\n",
       "    </tr>\n",
       "    <tr>\n",
       "      <td>998</td>\n",
       "      <td>NC_000001.11</td>\n",
       "      <td>260620</td>\n",
       "      <td>260620</td>\n",
       "      <td>NlaIII_999</td>\n",
       "      <td>.</td>\n",
       "      <td>+</td>\n",
       "    </tr>\n",
       "    <tr>\n",
       "      <td>999</td>\n",
       "      <td>NC_000001.11</td>\n",
       "      <td>260635</td>\n",
       "      <td>260635</td>\n",
       "      <td>NlaIII_1000</td>\n",
       "      <td>.</td>\n",
       "      <td>+</td>\n",
       "    </tr>\n",
       "  </tbody>\n",
       "</table>\n",
       "<p>1000 rows × 6 columns</p>\n",
       "</div>"
      ],
      "text/plain": [
       "            chrom   start     end         name  _ strand\n",
       "0    NC_000001.11   10802   10802     NlaIII_1  .      +\n",
       "1    NC_000001.11   10876   10876     NlaIII_2  .      +\n",
       "2    NC_000001.11   10952   10952     NlaIII_3  .      +\n",
       "3    NC_000001.11   11717   11717     NlaIII_4  .      +\n",
       "4    NC_000001.11   11756   11756     NlaIII_5  .      +\n",
       "..            ...     ...     ...          ... ..    ...\n",
       "995  NC_000001.11  259789  259789   NlaIII_996  .      +\n",
       "996  NC_000001.11  260156  260156   NlaIII_997  .      +\n",
       "997  NC_000001.11  260562  260562   NlaIII_998  .      +\n",
       "998  NC_000001.11  260620  260620   NlaIII_999  .      +\n",
       "999  NC_000001.11  260635  260635  NlaIII_1000  .      +\n",
       "\n",
       "[1000 rows x 6 columns]"
      ]
     },
     "execution_count": 8,
     "metadata": {},
     "output_type": "execute_result"
    }
   ],
   "source": [
    "rsites"
   ]
  },
  {
   "cell_type": "markdown",
   "metadata": {},
   "source": [
    "NC_000024.10 такое там тоже есть"
   ]
  },
  {
   "cell_type": "code",
   "execution_count": 37,
   "metadata": {},
   "outputs": [],
   "source": [
    "rsi = open('restr_fragshort.bed', 'r')"
   ]
  },
  {
   "cell_type": "code",
   "execution_count": 38,
   "metadata": {},
   "outputs": [],
   "source": [
    "refrsi = open('rest_reformed', 'w')"
   ]
  },
  {
   "cell_type": "code",
   "execution_count": 39,
   "metadata": {},
   "outputs": [],
   "source": [
    "dic_chr = {'NC_000001.11' : '1', \n",
    "           'NC_000002.12' : '2', \n",
    "           'NC_000003.12' : '3',\n",
    "           'NC_000004.12' : '4', \n",
    "           'NC_000005.10' : '5', \n",
    "           'NC_000006.12' : '6', \n",
    "           'NC_000007.14' : '7', \n",
    "           'NC_000008.11' : '8', \n",
    "           'NC_000009.12' : '9',\n",
    "           'NC_000010.11' : '10',\n",
    "           'NC_000011.10' : '11',\n",
    "'NC_000012.12' : '12',\n",
    "'NC_000013.11' : '13',\n",
    "'NC_000014.9'  : '14',\n",
    "'NC_000015.10' : '15',\n",
    "'NC_000016.10' : '16', \n",
    "'NC_000017.11' : '17', \n",
    "'NC_000018.10' : '18',\n",
    "'NC_000019.10' : '19', \n",
    "'NC_000020.11' : '20', \n",
    "'NC_000021.9' : '21', \n",
    "'NC_000022.11' : '22', \n",
    "'NC_000023.11' : '23', \n",
    "'NC_000024.10' : '24'\n",
    "          }"
   ]
  },
  {
   "cell_type": "code",
   "execution_count": 43,
   "metadata": {},
   "outputs": [],
   "source": [
    "for i in rsi:\n",
    "    line = i.strip().split('\\t')\n",
    "    print(line)\n",
    "    ch = line[0]\n",
    "    newch = dic_chr[ch]\n",
    "    refrsi.write(\n",
    "    newch + '\\t' \n",
    "        + line[1]+ '\\t' \n",
    "        + line[2]+ '\\t'\n",
    "        + line[3]+ '\\t' \n",
    "        + line[4]+ '\\t'\n",
    "        +line[5] + \"\\n\")"
   ]
  },
  {
   "cell_type": "code",
   "execution_count": 11,
   "metadata": {},
   "outputs": [],
   "source": [
    "rsi.close()"
   ]
  },
  {
   "cell_type": "code",
   "execution_count": 19,
   "metadata": {},
   "outputs": [
    {
     "data": {
      "text/plain": [
       "1"
      ]
     },
     "execution_count": 19,
     "metadata": {},
     "output_type": "execute_result"
    }
   ],
   "source": [
    "a = 'NC_000001.11'\n",
    "int(a[7:9])"
   ]
  },
  {
   "cell_type": "code",
   "execution_count": 21,
   "metadata": {},
   "outputs": [],
   "source": [
    "a = {'b':'c'}"
   ]
  },
  {
   "cell_type": "code",
   "execution_count": 23,
   "metadata": {},
   "outputs": [
    {
     "data": {
      "text/plain": [
       "'c'"
      ]
     },
     "execution_count": 23,
     "metadata": {},
     "output_type": "execute_result"
    }
   ],
   "source": [
    "a['b']"
   ]
  },
  {
   "cell_type": "markdown",
   "metadata": {},
   "source": [
    "переименуем имена хромосом в bed файле \n",
    "нужно переименовать хромосомы \n",
    ">NC_000023.11 Homo sapiens chromosome X, GRCh38 Primary Assembly\n",
    ">NC_000024.10 Homo sapiens chromosome Y, GRCh38 Primary Assembly\n",
    "то есть \n",
    "X==23\n",
    "Y==24"
   ]
  },
  {
   "cell_type": "code",
   "execution_count": 14,
   "metadata": {},
   "outputs": [
    {
     "name": "stdout",
     "output_type": "stream",
     "text": [
      "Y\n",
      "24\n",
      "X\n",
      "23\n",
      "X\n",
      "23\n",
      "X\n",
      "23\n",
      "X\n",
      "23\n",
      "X\n",
      "23\n",
      "X\n",
      "23\n",
      "X\n",
      "23\n",
      "X\n",
      "23\n",
      "Y\n",
      "24\n"
     ]
    }
   ],
   "source": [
    "bed = open('head_first', 'r')\n",
    "refbed = open('head_first_ref', 'w')\n",
    "\n",
    "dic_chr = {'X' : '23', \n",
    "           'Y' : '24'}#остальные сохраняем как есть\n",
    "\n",
    "for i in bed:\n",
    "    line = i.strip().split('\\t')\n",
    "    ch = line[0]\n",
    "    #print(ch)\n",
    "    if ch in dic_chr:\n",
    "        ch = dic_chr[ch]\n",
    "    refbed.write(\n",
    "    ch + '\\t' \n",
    "        + line[1]+ '\\t' \n",
    "        + line[2]+ '\\t'\n",
    "        + line[3]+ '\\t' \n",
    "        + line[4]+ '\\t'\n",
    "        +line[5] + '\\t'\n",
    "        +line[6]+ \"\\n\")\n",
    "bed.close()\n",
    "bedref.close()"
   ]
  },
  {
   "cell_type": "code",
   "execution_count": 4,
   "metadata": {},
   "outputs": [
    {
     "data": {
      "text/plain": [
       "True"
      ]
     },
     "execution_count": 4,
     "metadata": {},
     "output_type": "execute_result"
    }
   ],
   "source": [
    "'X' in dic_chr"
   ]
  },
  {
   "cell_type": "code",
   "execution_count": 5,
   "metadata": {},
   "outputs": [
    {
     "data": {
      "text/plain": [
       "True"
      ]
     },
     "execution_count": 5,
     "metadata": {},
     "output_type": "execute_result"
    }
   ],
   "source": [
    "'Y' in dic_chr"
   ]
  },
  {
   "cell_type": "code",
   "execution_count": 6,
   "metadata": {},
   "outputs": [
    {
     "data": {
      "text/plain": [
       "False"
      ]
     },
     "execution_count": 6,
     "metadata": {},
     "output_type": "execute_result"
    }
   ],
   "source": [
    "'25' in dic_chr"
   ]
  },
  {
   "cell_type": "code",
   "execution_count": null,
   "metadata": {},
   "outputs": [],
   "source": []
  }
 ],
 "metadata": {
  "kernelspec": {
   "display_name": "Python 3",
   "language": "python",
   "name": "python3"
  },
  "language_info": {
   "codemirror_mode": {
    "name": "ipython",
    "version": 3
   },
   "file_extension": ".py",
   "mimetype": "text/x-python",
   "name": "python",
   "nbconvert_exporter": "python",
   "pygments_lexer": "ipython3",
   "version": "3.7.4"
  }
 },
 "nbformat": 4,
 "nbformat_minor": 2
}
