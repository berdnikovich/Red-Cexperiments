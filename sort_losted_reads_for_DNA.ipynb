{
 "cells": [
  {
   "cell_type": "code",
   "execution_count": 1,
   "metadata": {},
   "outputs": [],
   "source": [
    "import pysam"
   ]
  },
  {
   "cell_type": "markdown",
   "metadata": {},
   "source": [
    "Часть этого кода создает список id read из текстовых файлов _NH и _noNH "
   ]
  },
  {
   "cell_type": "code",
   "execution_count": 45,
   "metadata": {},
   "outputs": [],
   "source": [
    "merge_finded = open('merge.txt', 'r')\n",
    "nolosted_listID = open('nolosted.txt', 'w')\n",
    "for i in merge_finded:\n",
    "    id_read = i.strip().split()[0]\n",
    "    nolosted_listID.write('{0}\\n'.format(id_read))"
   ]
  },
  {
   "cell_type": "code",
   "execution_count": 46,
   "metadata": {},
   "outputs": [],
   "source": [
    "nolosted_listID.close()\n",
    "merge_finded.close()"
   ]
  },
  {
   "cell_type": "markdown",
   "metadata": {},
   "source": [
    "Дальше попробуем изъять id ридов из файла с выравниванием (чтобы один раз упоминались в .txt файле)\n",
    "Данный кусок можно использовать для записи уникальных ридов а затем сопоставление пар"
   ]
  },
  {
   "cell_type": "code",
   "execution_count": 53,
   "metadata": {},
   "outputs": [],
   "source": [
    "samfile = pysam.AlignmentFile(\"K562_2_AG_7_S1_rna_short.sam\", \"r\")\n",
    "list_IDs_from_sam = open('list_ID_from_sam.txt', 'w')"
   ]
  },
  {
   "cell_type": "code",
   "execution_count": 54,
   "metadata": {},
   "outputs": [],
   "source": [
    "ind = '0'\n",
    "for i in samfile:\n",
    "    if ind == i.query_name:\n",
    "        continue\n",
    "    else:\n",
    "        ind = i.query_name\n",
    "        list_IDs_from_sam.write('{0}\\n'.format(i.query_name))"
   ]
  },
  {
   "cell_type": "code",
   "execution_count": 55,
   "metadata": {},
   "outputs": [],
   "source": [
    "list_IDs_from_sam.close()\n",
    "samfile.close()"
   ]
  },
  {
   "cell_type": "markdown",
   "metadata": {},
   "source": [
    "Дальше код находит соответствие из list_IDs_from_sam файла в файле с merge (то есть содержащие ID всех ридов распределенных по категориям _NH и _noNH)"
   ]
  },
  {
   "cell_type": "code",
   "execution_count": 41,
   "metadata": {},
   "outputs": [],
   "source": [
    "losted_read = open('my_losted.sam', 'w')"
   ]
  },
  {
   "cell_type": "code",
   "execution_count": 42,
   "metadata": {},
   "outputs": [],
   "source": [
    "with pysam.AlignmentFile(\"K562_2_AG_7_S1_rna_short.sam\", \"r\") as samfile:\n",
    "    ind = '0'\n",
    "    for r1 in samfile.fetch(until_eof = True):\n",
    "        if ind == r1.qname:\n",
    "            #print('repeat!')\n",
    "            ind = r1.qname\n",
    "            continue\n",
    "        else:\n",
    "            #print('ok')\n",
    "            ind = r1.qname\n",
    "            with open('nolosted.txt', 'r') as nolosted:\n",
    "                ind2 = 'lost'\n",
    "                for no_lost in nolosted:\n",
    "                    id_nolost = no_lost.strip()\n",
    "                    if r1.qname == id_nolost:\n",
    "                        ind2 = 'find!'\n",
    "                        #остановить цикл for\n",
    "                    else:\n",
    "                        continue\n",
    "            if ind2 == 'lost':\n",
    "                losted_read.write('{0}\\n'.format(r1))\n",
    "                    \n",
    "                    \n",
    "                \n",
    "                    "
   ]
  },
  {
   "cell_type": "markdown",
   "metadata": {},
   "source": [
    "both = sim_reads.intersection(sec_reads) попробуем создать два сета и объединить их #https://www.biostars.org/p/17288/\n",
    "или сделаем  li1.symmetric_difference(li2)"
   ]
  },
  {
   "cell_type": "markdown",
   "metadata": {},
   "source": [
    "создадим 2 сета"
   ]
  },
  {
   "cell_type": "code",
   "execution_count": 28,
   "metadata": {},
   "outputs": [],
   "source": [
    "no_losted = set()\n",
    "with open('nolosted.txt', 'r') as nolosted:\n",
    "    for i in nolosted:\n",
    "        no_losted.add(i.strip())"
   ]
  },
  {
   "cell_type": "code",
   "execution_count": 29,
   "metadata": {},
   "outputs": [],
   "source": [
    "sam_read = set()\n",
    "with open('list_ID_from_sam.txt', 'r') as samread:\n",
    "    for i in samread:\n",
    "        sam_read.add(i.strip())"
   ]
  },
  {
   "cell_type": "code",
   "execution_count": 30,
   "metadata": {},
   "outputs": [],
   "source": [
    "losted_reads = sam_read.symmetric_difference(no_losted)"
   ]
  },
  {
   "cell_type": "code",
   "execution_count": 32,
   "metadata": {},
   "outputs": [
    {
     "name": "stdout",
     "output_type": "stream",
     "text": [
      "{'D00795:30:CA2UTANXX:1:1107:2109:1967'}\n"
     ]
    }
   ],
   "source": [
    "print(losted_reads)"
   ]
  },
  {
   "cell_type": "code",
   "execution_count": 36,
   "metadata": {},
   "outputs": [],
   "source": [
    "with open('losted.txt','w') as f:\n",
    "    #pickle.dump(losted_reads, f)\n",
    "    for i in losted_reads:\n",
    "        f.write('{0}\\n'.format(i))"
   ]
  },
  {
   "cell_type": "markdown",
   "metadata": {},
   "source": [
    "В коде далее ошибка в том, что по файлу мы можем итерироваться всего один раз чтобы искать - не подходит."
   ]
  },
  {
   "cell_type": "markdown",
   "metadata": {},
   "source": []
  },
  {
   "cell_type": "code",
   "execution_count": 69,
   "metadata": {},
   "outputs": [],
   "source": [
    "for i in list_IDs_from_sam:\n",
    "    ID_sam = i.strip()\n",
    "    ind = \"no\"\n",
    "    for b in listID:\n",
    "        print(b.strip())\n",
    "    #print('hi')"
   ]
  },
  {
   "cell_type": "markdown",
   "metadata": {},
   "source": [
    "Поищем сопоставление в коде от разработчика mHi-C s2_joinEnd.py"
   ]
  },
  {
   "cell_type": "code",
   "execution_count": 70,
   "metadata": {},
   "outputs": [],
   "source": [
    "for i in list_IDs_from_sam:\n",
    "    id_read = i.split()\n",
    "    #print(i.query_name)\n",
    "    ind = \"No\"\n",
    "    for b in listID:\n",
    "        list_ID = b.strip().split()\n",
    "        if id_read == list_ID:\n",
    "            ind = \"Yes\"\n",
    "    if ind == \"No\":\n",
    "        losted_list.write('{0}\\n'.format(i))\n",
    "            \n",
    "        "
   ]
  },
  {
   "cell_type": "code",
   "execution_count": 21,
   "metadata": {},
   "outputs": [],
   "source": [
    "li1 = set([4,4])\n",
    "li2 = set([4,5,6])"
   ]
  },
  {
   "cell_type": "code",
   "execution_count": 13,
   "metadata": {},
   "outputs": [
    {
     "name": "stdout",
     "output_type": "stream",
     "text": [
      "1 4\n",
      "2 5\n",
      "3 6\n"
     ]
    }
   ],
   "source": [
    "\n",
    "for m,k in zip(li1,li2):\n",
    "    print(m,k)"
   ]
  },
  {
   "cell_type": "markdown",
   "metadata": {},
   "source": [
    "Попробуем итерироваться по ридам в sam с помощью pysam"
   ]
  },
  {
   "cell_type": "code",
   "execution_count": 22,
   "metadata": {},
   "outputs": [
    {
     "data": {
      "text/plain": [
       "{5, 6}"
      ]
     },
     "execution_count": 22,
     "metadata": {},
     "output_type": "execute_result"
    }
   ],
   "source": [
    "li1.symmetric_difference(li2)"
   ]
  },
  {
   "cell_type": "code",
   "execution_count": null,
   "metadata": {},
   "outputs": [],
   "source": []
  }
 ],
 "metadata": {
  "kernelspec": {
   "display_name": "Python 3",
   "language": "python",
   "name": "python3"
  },
  "language_info": {
   "codemirror_mode": {
    "name": "ipython",
    "version": 3
   },
   "file_extension": ".py",
   "mimetype": "text/x-python",
   "name": "python",
   "nbconvert_exporter": "python",
   "pygments_lexer": "ipython3",
   "version": "3.7.4"
  }
 },
 "nbformat": 4,
 "nbformat_minor": 2
}
