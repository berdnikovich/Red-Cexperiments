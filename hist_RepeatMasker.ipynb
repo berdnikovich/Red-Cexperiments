{
 "cells": [
  {
   "cell_type": "markdown",
   "metadata": {},
   "source": [
    "# Преобразование непроаннотированных ридов"
   ]
  },
  {
   "cell_type": "code",
   "execution_count": 1,
   "metadata": {},
   "outputs": [],
   "source": [
    "import pickle\n",
    "import math\n",
    "import matplotlib.pyplot as plt\n",
    "import pandas as pd"
   ]
  },
  {
   "cell_type": "code",
   "execution_count": 2,
   "metadata": {},
   "outputs": [],
   "source": [
    "with open('sample2.fasta', \"r\") as a_file:\n",
    "    with open('NH_count_dna', 'wb') as my_new:\n",
    "        dic = {}\n",
    "        for line in a_file:\n",
    "            if line.startswith('>'):\n",
    "                stripped_line = line.strip().split('.')\n",
    "                if stripped_line[1] in dic:\n",
    "                    dic[stripped_line[1]] += 1\n",
    "                else:\n",
    "                    dic[stripped_line[1]] = 1\n",
    "        pickle.dump(dic, my_new)"
   ]
  },
  {
   "cell_type": "markdown",
   "metadata": {},
   "source": [
    "## sample3 (5 000 000 lines)"
   ]
  },
  {
   "cell_type": "code",
   "execution_count": 127,
   "metadata": {},
   "outputs": [],
   "source": [
    "df = pickle.load(open( \"NH_count_dna_sample3\", \"rb\" ))"
   ]
  },
  {
   "cell_type": "code",
   "execution_count": 128,
   "metadata": {},
   "outputs": [],
   "source": [
    "#print(df)"
   ]
  },
  {
   "cell_type": "code",
   "execution_count": 129,
   "metadata": {},
   "outputs": [],
   "source": [
    "df2 = {int(k):v for k,v in df.items()}"
   ]
  },
  {
   "cell_type": "code",
   "execution_count": 130,
   "metadata": {},
   "outputs": [],
   "source": [
    "#print(df2)"
   ]
  },
  {
   "cell_type": "code",
   "execution_count": 131,
   "metadata": {},
   "outputs": [
    {
     "data": {
      "text/plain": [
       "1936364"
      ]
     },
     "execution_count": 131,
     "metadata": {},
     "output_type": "execute_result"
    }
   ],
   "source": [
    "df2.pop(1)"
   ]
  },
  {
   "cell_type": "code",
   "execution_count": 132,
   "metadata": {},
   "outputs": [
    {
     "data": {
      "text/plain": [
       "58162"
      ]
     },
     "execution_count": 132,
     "metadata": {},
     "output_type": "execute_result"
    }
   ],
   "source": [
    "df2[1000]"
   ]
  },
  {
   "cell_type": "code",
   "execution_count": 133,
   "metadata": {},
   "outputs": [
    {
     "data": {
      "text/plain": [
       "1000"
      ]
     },
     "execution_count": 133,
     "metadata": {},
     "output_type": "execute_result"
    }
   ],
   "source": [
    "max(df2.keys())"
   ]
  },
  {
   "cell_type": "code",
   "execution_count": 134,
   "metadata": {},
   "outputs": [],
   "source": [
    "df_logx = {math.log10(k):v for k,v in df2.items()}"
   ]
  },
  {
   "cell_type": "code",
   "execution_count": 135,
   "metadata": {},
   "outputs": [
    {
     "data": {
      "text/plain": [
       "3.0"
      ]
     },
     "execution_count": 135,
     "metadata": {},
     "output_type": "execute_result"
    }
   ],
   "source": [
    "max(df_logx.keys())"
   ]
  },
  {
   "cell_type": "code",
   "execution_count": 136,
   "metadata": {},
   "outputs": [
    {
     "data": {
      "image/png": "[encoded data removed]",
      "text/plain": [
       "<Figure size 432x288 with 1 Axes>"
      ]
     },
     "metadata": {
      "needs_background": "light"
     },
     "output_type": "display_data"
    }
   ],
   "source": [
    "fig, ax = plt.subplots()\n",
    "ax.bar(list(df_logx.keys()), df_logx.values(), log=True, align='edge', width=0.05)\n",
    "plt.title('DNA_no_annot3', fontsize=30)\n",
    "plt.xlabel('n map (log10 scale)', fontsize=20)\n",
    "plt.ylabel('Count (log10 scale)', fontsize=20)\n",
    "\n",
    "plt.savefig('dna_no_annot3.png')"
   ]
  },
  {
   "cell_type": "markdown",
   "metadata": {},
   "source": [
    "## sample4"
   ]
  },
  {
   "cell_type": "code",
   "execution_count": 3,
   "metadata": {},
   "outputs": [],
   "source": [
    "df = pickle.load(open( \"NH_count_dna_sample4\", \"rb\" ))"
   ]
  },
  {
   "cell_type": "code",
   "execution_count": 4,
   "metadata": {},
   "outputs": [],
   "source": [
    "df_all = df"
   ]
  },
  {
   "cell_type": "code",
   "execution_count": 5,
   "metadata": {},
   "outputs": [],
   "source": [
    "count = 0\n",
    "for k,v in df.items():\n",
    "    count+=v"
   ]
  },
  {
   "cell_type": "code",
   "execution_count": 6,
   "metadata": {},
   "outputs": [
    {
     "data": {
      "text/plain": [
       "50000"
      ]
     },
     "execution_count": 6,
     "metadata": {},
     "output_type": "execute_result"
    }
   ],
   "source": [
    "count"
   ]
  },
  {
   "cell_type": "code",
   "execution_count": 7,
   "metadata": {},
   "outputs": [],
   "source": [
    "df2 = {int(k):v for k,v in df.items()}"
   ]
  },
  {
   "cell_type": "code",
   "execution_count": 8,
   "metadata": {},
   "outputs": [
    {
     "data": {
      "text/plain": [
       "38780"
      ]
     },
     "execution_count": 8,
     "metadata": {},
     "output_type": "execute_result"
    }
   ],
   "source": [
    "df2.pop(1)"
   ]
  },
  {
   "cell_type": "code",
   "execution_count": 9,
   "metadata": {},
   "outputs": [],
   "source": [
    "df_all = df2"
   ]
  },
  {
   "cell_type": "code",
   "execution_count": 10,
   "metadata": {},
   "outputs": [
    {
     "data": {
      "text/plain": [
       "1167"
      ]
     },
     "execution_count": 10,
     "metadata": {},
     "output_type": "execute_result"
    }
   ],
   "source": [
    "df2[1000]"
   ]
  },
  {
   "cell_type": "code",
   "execution_count": 11,
   "metadata": {},
   "outputs": [],
   "source": [
    "df_logx = {math.log10(k):v for k,v in df2.items()}"
   ]
  },
  {
   "cell_type": "code",
   "execution_count": 12,
   "metadata": {},
   "outputs": [
    {
     "data": {
      "image/png": "[encoded data removed]",
      "text/plain": [
       "<Figure size 432x288 with 1 Axes>"
      ]
     },
     "metadata": {
      "needs_background": "light"
     },
     "output_type": "display_data"
    }
   ],
   "source": [
    "fig, ax = plt.subplots()\n",
    "ax.bar(list(df_logx.keys()), df_logx.values(), align='edge', width=0.05, log = True)\n",
    "plt.title('DNA_no_annot4', fontsize=30)\n",
    "plt.xlabel('n map (log10 scale)', fontsize=20)\n",
    "plt.ylabel('Count (log10 scale)', fontsize=20)\n",
    "\n",
    "plt.savefig('dna_no_annot4.png')"
   ]
  },
  {
   "cell_type": "code",
   "execution_count": 13,
   "metadata": {},
   "outputs": [],
   "source": [
    "#print(df_logx)"
   ]
  },
  {
   "cell_type": "code",
   "execution_count": 14,
   "metadata": {},
   "outputs": [
    {
     "name": "stdout",
     "output_type": "stream",
     "text": [
      "[0.0, 0.05, 0.1, 0.15, 0.2, 0.25, 0.3, 0.35, 0.4, 0.45, 0.5, 0.55, 0.6, 0.65, 0.7, 0.75, 0.8, 0.85, 0.9, 0.95, 1.0, 1.05, 1.1, 1.15, 1.2, 1.25, 1.3, 1.35, 1.4, 1.45, 1.5, 1.55, 1.6, 1.65, 1.7, 1.75, 1.8, 1.85, 1.9, 1.95, 2.0, 2.05, 2.1, 2.15, 2.2, 2.25, 2.3, 2.35, 2.4, 2.45, 2.5, 2.55, 2.6, 2.65, 2.7, 2.75, 2.8, 2.85, 2.9, 2.95, 3.0, 3.05]\n"
     ]
    }
   ],
   "source": [
    "bins = [x / 100.0 for x in range(0, 310, 5)]\n",
    "print(bins)"
   ]
  },
  {
   "cell_type": "code",
   "execution_count": 15,
   "metadata": {},
   "outputs": [],
   "source": [
    "i = 1\n",
    "li_bi = []\n",
    "for j in range(len(bins)-1):\n",
    "    #print(j)\n",
    "    li_bi.append((bins[j],bins[i]))\n",
    "    i+=1"
   ]
  },
  {
   "cell_type": "code",
   "execution_count": 16,
   "metadata": {},
   "outputs": [
    {
     "name": "stdout",
     "output_type": "stream",
     "text": [
      "[(0.0, 0.05), (0.05, 0.1), (0.1, 0.15), (0.15, 0.2), (0.2, 0.25), (0.25, 0.3), (0.3, 0.35), (0.35, 0.4), (0.4, 0.45), (0.45, 0.5), (0.5, 0.55), (0.55, 0.6), (0.6, 0.65), (0.65, 0.7), (0.7, 0.75), (0.75, 0.8), (0.8, 0.85), (0.85, 0.9), (0.9, 0.95), (0.95, 1.0), (1.0, 1.05), (1.05, 1.1), (1.1, 1.15), (1.15, 1.2), (1.2, 1.25), (1.25, 1.3), (1.3, 1.35), (1.35, 1.4), (1.4, 1.45), (1.45, 1.5), (1.5, 1.55), (1.55, 1.6), (1.6, 1.65), (1.65, 1.7), (1.7, 1.75), (1.75, 1.8), (1.8, 1.85), (1.85, 1.9), (1.9, 1.95), (1.95, 2.0), (2.0, 2.05), (2.05, 2.1), (2.1, 2.15), (2.15, 2.2), (2.2, 2.25), (2.25, 2.3), (2.3, 2.35), (2.35, 2.4), (2.4, 2.45), (2.45, 2.5), (2.5, 2.55), (2.55, 2.6), (2.6, 2.65), (2.65, 2.7), (2.7, 2.75), (2.75, 2.8), (2.8, 2.85), (2.85, 2.9), (2.9, 2.95), (2.95, 3.0), (3.0, 3.05)]\n"
     ]
    }
   ],
   "source": [
    "print(li_bi)"
   ]
  },
  {
   "cell_type": "code",
   "execution_count": 17,
   "metadata": {},
   "outputs": [],
   "source": [
    "bin_dic = {i:0 for i in li_bi}"
   ]
  },
  {
   "cell_type": "code",
   "execution_count": 18,
   "metadata": {
    "scrolled": true
   },
   "outputs": [
    {
     "name": "stdout",
     "output_type": "stream",
     "text": [
      "{(0.0, 0.05): 0, (0.05, 0.1): 0, (0.1, 0.15): 0, (0.15, 0.2): 0, (0.2, 0.25): 0, (0.25, 0.3): 0, (0.3, 0.35): 0, (0.35, 0.4): 0, (0.4, 0.45): 0, (0.45, 0.5): 0, (0.5, 0.55): 0, (0.55, 0.6): 0, (0.6, 0.65): 0, (0.65, 0.7): 0, (0.7, 0.75): 0, (0.75, 0.8): 0, (0.8, 0.85): 0, (0.85, 0.9): 0, (0.9, 0.95): 0, (0.95, 1.0): 0, (1.0, 1.05): 0, (1.05, 1.1): 0, (1.1, 1.15): 0, (1.15, 1.2): 0, (1.2, 1.25): 0, (1.25, 1.3): 0, (1.3, 1.35): 0, (1.35, 1.4): 0, (1.4, 1.45): 0, (1.45, 1.5): 0, (1.5, 1.55): 0, (1.55, 1.6): 0, (1.6, 1.65): 0, (1.65, 1.7): 0, (1.7, 1.75): 0, (1.75, 1.8): 0, (1.8, 1.85): 0, (1.85, 1.9): 0, (1.9, 1.95): 0, (1.95, 2.0): 0, (2.0, 2.05): 0, (2.05, 2.1): 0, (2.1, 2.15): 0, (2.15, 2.2): 0, (2.2, 2.25): 0, (2.25, 2.3): 0, (2.3, 2.35): 0, (2.35, 2.4): 0, (2.4, 2.45): 0, (2.45, 2.5): 0, (2.5, 2.55): 0, (2.55, 2.6): 0, (2.6, 2.65): 0, (2.65, 2.7): 0, (2.7, 2.75): 0, (2.75, 2.8): 0, (2.8, 2.85): 0, (2.85, 2.9): 0, (2.9, 2.95): 0, (2.95, 3.0): 0, (3.0, 3.05): 0}\n"
     ]
    }
   ],
   "source": [
    "print(bin_dic)"
   ]
  },
  {
   "cell_type": "code",
   "execution_count": 19,
   "metadata": {},
   "outputs": [],
   "source": [
    "#df_logx"
   ]
  },
  {
   "cell_type": "code",
   "execution_count": 20,
   "metadata": {},
   "outputs": [],
   "source": [
    "#df_logx\n",
    "for k,v in df_logx.items():\n",
    "    for i in bin_dic.keys():\n",
    "        if k<=i[1] and k>i[0]:\n",
    "            bin_dic[i] += v\n",
    "    "
   ]
  },
  {
   "cell_type": "code",
   "execution_count": 21,
   "metadata": {},
   "outputs": [
    {
     "data": {
      "text/plain": [
       "61"
      ]
     },
     "execution_count": 21,
     "metadata": {},
     "output_type": "execute_result"
    }
   ],
   "source": [
    "len(list(bin_dic.keys()))"
   ]
  },
  {
   "cell_type": "code",
   "execution_count": 22,
   "metadata": {},
   "outputs": [
    {
     "data": {
      "text/plain": [
       "61"
      ]
     },
     "execution_count": 22,
     "metadata": {},
     "output_type": "execute_result"
    }
   ],
   "source": [
    "len(bin_dic.values())"
   ]
  },
  {
   "cell_type": "code",
   "execution_count": 23,
   "metadata": {},
   "outputs": [
    {
     "name": "stdout",
     "output_type": "stream",
     "text": [
      "{(0.0, 0.05): 0, (0.05, 0.1): 0, (0.1, 0.15): 0, (0.15, 0.2): 0, (0.2, 0.25): 0, (0.25, 0.3): 0, (0.3, 0.35): 1998, (0.35, 0.4): 0, (0.4, 0.45): 0, (0.45, 0.5): 1013, (0.5, 0.55): 0, (0.55, 0.6): 0, (0.6, 0.65): 627, (0.65, 0.7): 448, (0.7, 0.75): 0, (0.75, 0.8): 351, (0.8, 0.85): 242, (0.85, 0.9): 0, (0.9, 0.95): 209, (0.95, 1.0): 341, (1.0, 1.05): 136, (1.05, 1.1): 119, (1.1, 1.15): 228, (1.15, 1.2): 72, (1.2, 1.25): 188, (1.25, 1.3): 120, (1.3, 1.35): 171, (1.35, 1.4): 166, (1.4, 1.45): 143, (1.45, 1.5): 131, (1.5, 1.55): 152, (1.55, 1.6): 101, (1.6, 1.65): 117, (1.65, 1.7): 130, (1.7, 1.75): 105, (1.75, 1.8): 124, (1.8, 1.85): 135, (1.85, 1.9): 133, (1.9, 1.95): 195, (1.95, 2.0): 114, (2.0, 2.05): 120, (2.05, 2.1): 125, (2.1, 2.15): 131, (2.15, 2.2): 116, (2.2, 2.25): 100, (2.25, 2.3): 93, (2.3, 2.35): 112, (2.35, 2.4): 116, (2.4, 2.45): 84, (2.45, 2.5): 85, (2.5, 2.55): 123, (2.55, 2.6): 101, (2.6, 2.65): 94, (2.65, 2.7): 91, (2.7, 2.75): 112, (2.75, 2.8): 88, (2.8, 2.85): 86, (2.85, 2.9): 69, (2.9, 2.95): 111, (2.95, 3.0): 1254, (3.0, 3.05): 0}\n"
     ]
    }
   ],
   "source": [
    "print(bin_dic)"
   ]
  },
  {
   "cell_type": "code",
   "execution_count": 24,
   "metadata": {},
   "outputs": [],
   "source": [
    "#bin_dic\n",
    "new_bin = {}\n",
    "for k,v in bin_dic.items():\n",
    "    #print(k,v)\n",
    "    new_bin[k[1]] = v"
   ]
  },
  {
   "cell_type": "code",
   "execution_count": 25,
   "metadata": {},
   "outputs": [
    {
     "name": "stdout",
     "output_type": "stream",
     "text": [
      "{0.05: 0, 0.1: 0, 0.15: 0, 0.2: 0, 0.25: 0, 0.3: 0, 0.35: 1998, 0.4: 0, 0.45: 0, 0.5: 1013, 0.55: 0, 0.6: 0, 0.65: 627, 0.7: 448, 0.75: 0, 0.8: 351, 0.85: 242, 0.9: 0, 0.95: 209, 1.0: 341, 1.05: 136, 1.1: 119, 1.15: 228, 1.2: 72, 1.25: 188, 1.3: 120, 1.35: 171, 1.4: 166, 1.45: 143, 1.5: 131, 1.55: 152, 1.6: 101, 1.65: 117, 1.7: 130, 1.75: 105, 1.8: 124, 1.85: 135, 1.9: 133, 1.95: 195, 2.0: 114, 2.05: 120, 2.1: 125, 2.15: 131, 2.2: 116, 2.25: 100, 2.3: 93, 2.35: 112, 2.4: 116, 2.45: 84, 2.5: 85, 2.55: 123, 2.6: 101, 2.65: 94, 2.7: 91, 2.75: 112, 2.8: 88, 2.85: 86, 2.9: 69, 2.95: 111, 3.0: 1254, 3.05: 0}\n"
     ]
    }
   ],
   "source": [
    "print(new_bin)"
   ]
  },
  {
   "cell_type": "code",
   "execution_count": 26,
   "metadata": {},
   "outputs": [
    {
     "data": {
      "image/png": "[encoded data removed]",
      "text/plain": [
       "<Figure size 432x288 with 1 Axes>"
      ]
     },
     "metadata": {
      "needs_background": "light"
     },
     "output_type": "display_data"
    }
   ],
   "source": [
    "#plt.barh(list(bin_dic.keys()), list(bin_dic.values()))\n",
    "fig, ax = plt.subplots()\n",
    "ax.bar(list(new_bin.keys()), list(new_bin.values()), log=True, align='edge', width=0.05)\n",
    "plt.title('DNA_no_annot4_my', fontsize=30)\n",
    "plt.xlabel('n map (log10 scale)', fontsize=20)\n",
    "plt.ylabel('Count (log10 scale)', fontsize=20)\n",
    "\n",
    "plt.savefig('dna_no_annot4_2.png')"
   ]
  },
  {
   "cell_type": "markdown",
   "metadata": {},
   "source": [
    "# Преобразование проаннотированных ридов"
   ]
  },
  {
   "cell_type": "markdown",
   "metadata": {},
   "source": [
    "## sample4"
   ]
  },
  {
   "cell_type": "code",
   "execution_count": 27,
   "metadata": {},
   "outputs": [],
   "source": [
    "import pandas as pd"
   ]
  },
  {
   "cell_type": "code",
   "execution_count": 28,
   "metadata": {},
   "outputs": [],
   "source": [
    "#df = pd.read_csv('sample.fasta.out', skiprows=3, header = None, sep = ' ')"
   ]
  },
  {
   "cell_type": "markdown",
   "metadata": {},
   "source": [
    "удалила в дыух строчках * 154 256 помоему "
   ]
  },
  {
   "cell_type": "code",
   "execution_count": 29,
   "metadata": {},
   "outputs": [],
   "source": [
    "df1 = pd.read_csv('sample4.fasta.out', header=None, sep=\"\\s+\", skiprows=3)"
   ]
  },
  {
   "cell_type": "code",
   "execution_count": 30,
   "metadata": {},
   "outputs": [],
   "source": [
    "names = ['SW score',  'perc div.' , 'perc del.', 'perc ins.',   'query sequence',   \n",
    "         'position in query (begin)', 'position in query (end)',  'position in query (left)','compl' , \n",
    "         'matching repeat (repeat)'  ,   'matching repeat  (class/family)' ,  \n",
    "         'position in  repeat (begin)', 'position in  repeat (end)' ,  'position in  repeat (left)', 'ID']"
   ]
  },
  {
   "cell_type": "code",
   "execution_count": 31,
   "metadata": {},
   "outputs": [],
   "source": [
    "df1.columns = names"
   ]
  },
  {
   "cell_type": "code",
   "execution_count": 32,
   "metadata": {},
   "outputs": [
    {
     "data": {
      "text/html": [
       "<div>\n",
       "<style scoped>\n",
       "    .dataframe tbody tr th:only-of-type {\n",
       "        vertical-align: middle;\n",
       "    }\n",
       "\n",
       "    .dataframe tbody tr th {\n",
       "        vertical-align: top;\n",
       "    }\n",
       "\n",
       "    .dataframe thead th {\n",
       "        text-align: right;\n",
       "    }\n",
       "</style>\n",
       "<table border=\"1\" class=\"dataframe\">\n",
       "  <thead>\n",
       "    <tr style=\"text-align: right;\">\n",
       "      <th></th>\n",
       "      <th>SW score</th>\n",
       "      <th>perc div.</th>\n",
       "      <th>perc del.</th>\n",
       "      <th>perc ins.</th>\n",
       "      <th>query sequence</th>\n",
       "      <th>position in query (begin)</th>\n",
       "      <th>position in query (end)</th>\n",
       "      <th>position in query (left)</th>\n",
       "      <th>compl</th>\n",
       "      <th>matching repeat (repeat)</th>\n",
       "      <th>matching repeat  (class/family)</th>\n",
       "      <th>position in  repeat (begin)</th>\n",
       "      <th>position in  repeat (end)</th>\n",
       "      <th>position in  repeat (left)</th>\n",
       "      <th>ID</th>\n",
       "    </tr>\n",
       "  </thead>\n",
       "  <tbody>\n",
       "    <tr>\n",
       "      <td>0</td>\n",
       "      <td>17</td>\n",
       "      <td>5.0</td>\n",
       "      <td>0.0</td>\n",
       "      <td>0.0</td>\n",
       "      <td>D00795:30:CA2UTANXX:1:1107:10000:7096.106</td>\n",
       "      <td>3</td>\n",
       "      <td>23</td>\n",
       "      <td>(0)</td>\n",
       "      <td>+</td>\n",
       "      <td>(TG)n</td>\n",
       "      <td>Simple_repeat</td>\n",
       "      <td>1</td>\n",
       "      <td>21</td>\n",
       "      <td>(0)</td>\n",
       "      <td>1</td>\n",
       "    </tr>\n",
       "    <tr>\n",
       "      <td>1</td>\n",
       "      <td>119</td>\n",
       "      <td>9.8</td>\n",
       "      <td>5.7</td>\n",
       "      <td>0.0</td>\n",
       "      <td>D00795:30:CA2UTANXX:1:1107:10036:2459.1</td>\n",
       "      <td>3</td>\n",
       "      <td>125</td>\n",
       "      <td>(4)</td>\n",
       "      <td>+</td>\n",
       "      <td>LTR12E</td>\n",
       "      <td>LTR/ERV1</td>\n",
       "      <td>1051</td>\n",
       "      <td>1180</td>\n",
       "      <td>(142)</td>\n",
       "      <td>2</td>\n",
       "    </tr>\n",
       "    <tr>\n",
       "      <td>2</td>\n",
       "      <td>61</td>\n",
       "      <td>10.8</td>\n",
       "      <td>0.0</td>\n",
       "      <td>0.0</td>\n",
       "      <td>D00795:30:CA2UTANXX:1:1107:10040:2010.1</td>\n",
       "      <td>3</td>\n",
       "      <td>85</td>\n",
       "      <td>(3)</td>\n",
       "      <td>+</td>\n",
       "      <td>HERVP71A-int</td>\n",
       "      <td>LTR/ERV1</td>\n",
       "      <td>2000</td>\n",
       "      <td>2082</td>\n",
       "      <td>(5508)</td>\n",
       "      <td>3</td>\n",
       "    </tr>\n",
       "    <tr>\n",
       "      <td>3</td>\n",
       "      <td>7</td>\n",
       "      <td>36.5</td>\n",
       "      <td>13.8</td>\n",
       "      <td>0.8</td>\n",
       "      <td>D00795:30:CA2UTANXX:1:1107:10156:2993.1</td>\n",
       "      <td>5</td>\n",
       "      <td>120</td>\n",
       "      <td>(9)</td>\n",
       "      <td>C</td>\n",
       "      <td>L2</td>\n",
       "      <td>LINE/L2</td>\n",
       "      <td>(2094)</td>\n",
       "      <td>1325</td>\n",
       "      <td>1195</td>\n",
       "      <td>4</td>\n",
       "    </tr>\n",
       "    <tr>\n",
       "      <td>4</td>\n",
       "      <td>59</td>\n",
       "      <td>18.8</td>\n",
       "      <td>0.0</td>\n",
       "      <td>0.0</td>\n",
       "      <td>D00795:30:CA2UTANXX:1:1107:10174:4804.1</td>\n",
       "      <td>3</td>\n",
       "      <td>98</td>\n",
       "      <td>(5)</td>\n",
       "      <td>+</td>\n",
       "      <td>MLT1-int</td>\n",
       "      <td>LTR/ERVL-MaLR</td>\n",
       "      <td>170</td>\n",
       "      <td>265</td>\n",
       "      <td>(1106)</td>\n",
       "      <td>5</td>\n",
       "    </tr>\n",
       "    <tr>\n",
       "      <td>...</td>\n",
       "      <td>...</td>\n",
       "      <td>...</td>\n",
       "      <td>...</td>\n",
       "      <td>...</td>\n",
       "      <td>...</td>\n",
       "      <td>...</td>\n",
       "      <td>...</td>\n",
       "      <td>...</td>\n",
       "      <td>...</td>\n",
       "      <td>...</td>\n",
       "      <td>...</td>\n",
       "      <td>...</td>\n",
       "      <td>...</td>\n",
       "      <td>...</td>\n",
       "      <td>...</td>\n",
       "    </tr>\n",
       "    <tr>\n",
       "      <td>442</td>\n",
       "      <td>10</td>\n",
       "      <td>28.9</td>\n",
       "      <td>10.6</td>\n",
       "      <td>2.2</td>\n",
       "      <td>D00795:30:CA2UTANXX:1:1107:9801:5249.1</td>\n",
       "      <td>5</td>\n",
       "      <td>89</td>\n",
       "      <td>(40)</td>\n",
       "      <td>C</td>\n",
       "      <td>L4_C_Mam</td>\n",
       "      <td>LINE/RTE-X</td>\n",
       "      <td>(189)</td>\n",
       "      <td>4949</td>\n",
       "      <td>4858</td>\n",
       "      <td>441</td>\n",
       "    </tr>\n",
       "    <tr>\n",
       "      <td>443</td>\n",
       "      <td>40</td>\n",
       "      <td>13.2</td>\n",
       "      <td>0.0</td>\n",
       "      <td>0.0</td>\n",
       "      <td>D00795:30:CA2UTANXX:1:1107:9835:2840.1</td>\n",
       "      <td>5</td>\n",
       "      <td>57</td>\n",
       "      <td>(72)</td>\n",
       "      <td>C</td>\n",
       "      <td>Alu</td>\n",
       "      <td>SINE/Alu</td>\n",
       "      <td>(259)</td>\n",
       "      <td>53</td>\n",
       "      <td>1</td>\n",
       "      <td>442</td>\n",
       "    </tr>\n",
       "    <tr>\n",
       "      <td>444</td>\n",
       "      <td>93</td>\n",
       "      <td>20.0</td>\n",
       "      <td>0.0</td>\n",
       "      <td>0.0</td>\n",
       "      <td>D00795:30:CA2UTANXX:1:1107:9895:4973.1</td>\n",
       "      <td>5</td>\n",
       "      <td>129</td>\n",
       "      <td>(0)</td>\n",
       "      <td>+</td>\n",
       "      <td>L1MD2</td>\n",
       "      <td>LINE/L1</td>\n",
       "      <td>6136</td>\n",
       "      <td>6260</td>\n",
       "      <td>(99)</td>\n",
       "      <td>443</td>\n",
       "    </tr>\n",
       "    <tr>\n",
       "      <td>445</td>\n",
       "      <td>49</td>\n",
       "      <td>6.5</td>\n",
       "      <td>0.0</td>\n",
       "      <td>0.0</td>\n",
       "      <td>D00795:30:CA2UTANXX:1:1107:9899:6828.1</td>\n",
       "      <td>1</td>\n",
       "      <td>62</td>\n",
       "      <td>(0)</td>\n",
       "      <td>C</td>\n",
       "      <td>MER4B</td>\n",
       "      <td>LTR/ERV1</td>\n",
       "      <td>(346)</td>\n",
       "      <td>264</td>\n",
       "      <td>203</td>\n",
       "      <td>444</td>\n",
       "    </tr>\n",
       "    <tr>\n",
       "      <td>446</td>\n",
       "      <td>15</td>\n",
       "      <td>0.0</td>\n",
       "      <td>0.0</td>\n",
       "      <td>0.0</td>\n",
       "      <td>D00795:30:CA2UTANXX:1:1107:9971:2095.3</td>\n",
       "      <td>5</td>\n",
       "      <td>21</td>\n",
       "      <td>(3)</td>\n",
       "      <td>+</td>\n",
       "      <td>(TC)n</td>\n",
       "      <td>Simple_repeat</td>\n",
       "      <td>1</td>\n",
       "      <td>17</td>\n",
       "      <td>(0)</td>\n",
       "      <td>445</td>\n",
       "    </tr>\n",
       "  </tbody>\n",
       "</table>\n",
       "<p>447 rows × 15 columns</p>\n",
       "</div>"
      ],
      "text/plain": [
       "     SW score  perc div.  perc del.  perc ins.  \\\n",
       "0          17        5.0        0.0        0.0   \n",
       "1         119        9.8        5.7        0.0   \n",
       "2          61       10.8        0.0        0.0   \n",
       "3           7       36.5       13.8        0.8   \n",
       "4          59       18.8        0.0        0.0   \n",
       "..        ...        ...        ...        ...   \n",
       "442        10       28.9       10.6        2.2   \n",
       "443        40       13.2        0.0        0.0   \n",
       "444        93       20.0        0.0        0.0   \n",
       "445        49        6.5        0.0        0.0   \n",
       "446        15        0.0        0.0        0.0   \n",
       "\n",
       "                                query sequence  position in query (begin)  \\\n",
       "0    D00795:30:CA2UTANXX:1:1107:10000:7096.106                          3   \n",
       "1      D00795:30:CA2UTANXX:1:1107:10036:2459.1                          3   \n",
       "2      D00795:30:CA2UTANXX:1:1107:10040:2010.1                          3   \n",
       "3      D00795:30:CA2UTANXX:1:1107:10156:2993.1                          5   \n",
       "4      D00795:30:CA2UTANXX:1:1107:10174:4804.1                          3   \n",
       "..                                         ...                        ...   \n",
       "442     D00795:30:CA2UTANXX:1:1107:9801:5249.1                          5   \n",
       "443     D00795:30:CA2UTANXX:1:1107:9835:2840.1                          5   \n",
       "444     D00795:30:CA2UTANXX:1:1107:9895:4973.1                          5   \n",
       "445     D00795:30:CA2UTANXX:1:1107:9899:6828.1                          1   \n",
       "446     D00795:30:CA2UTANXX:1:1107:9971:2095.3                          5   \n",
       "\n",
       "     position in query (end) position in query (left) compl  \\\n",
       "0                         23                      (0)     +   \n",
       "1                        125                      (4)     +   \n",
       "2                         85                      (3)     +   \n",
       "3                        120                      (9)     C   \n",
       "4                         98                      (5)     +   \n",
       "..                       ...                      ...   ...   \n",
       "442                       89                     (40)     C   \n",
       "443                       57                     (72)     C   \n",
       "444                      129                      (0)     +   \n",
       "445                       62                      (0)     C   \n",
       "446                       21                      (3)     +   \n",
       "\n",
       "    matching repeat (repeat) matching repeat  (class/family)  \\\n",
       "0                      (TG)n                   Simple_repeat   \n",
       "1                     LTR12E                        LTR/ERV1   \n",
       "2               HERVP71A-int                        LTR/ERV1   \n",
       "3                         L2                         LINE/L2   \n",
       "4                   MLT1-int                   LTR/ERVL-MaLR   \n",
       "..                       ...                             ...   \n",
       "442                 L4_C_Mam                      LINE/RTE-X   \n",
       "443                      Alu                        SINE/Alu   \n",
       "444                    L1MD2                         LINE/L1   \n",
       "445                    MER4B                        LTR/ERV1   \n",
       "446                    (TC)n                   Simple_repeat   \n",
       "\n",
       "    position in  repeat (begin)  position in  repeat (end)  \\\n",
       "0                             1                         21   \n",
       "1                          1051                       1180   \n",
       "2                          2000                       2082   \n",
       "3                        (2094)                       1325   \n",
       "4                           170                        265   \n",
       "..                          ...                        ...   \n",
       "442                       (189)                       4949   \n",
       "443                       (259)                         53   \n",
       "444                        6136                       6260   \n",
       "445                       (346)                        264   \n",
       "446                           1                         17   \n",
       "\n",
       "    position in  repeat (left)   ID  \n",
       "0                          (0)    1  \n",
       "1                        (142)    2  \n",
       "2                       (5508)    3  \n",
       "3                         1195    4  \n",
       "4                       (1106)    5  \n",
       "..                         ...  ...  \n",
       "442                       4858  441  \n",
       "443                          1  442  \n",
       "444                       (99)  443  \n",
       "445                        203  444  \n",
       "446                        (0)  445  \n",
       "\n",
       "[447 rows x 15 columns]"
      ]
     },
     "execution_count": 32,
     "metadata": {},
     "output_type": "execute_result"
    }
   ],
   "source": [
    "df1"
   ]
  },
  {
   "cell_type": "code",
   "execution_count": 33,
   "metadata": {},
   "outputs": [],
   "source": [
    "NH = df1['query sequence'].str.split('.', expand=True)[1]"
   ]
  },
  {
   "cell_type": "code",
   "execution_count": 34,
   "metadata": {},
   "outputs": [],
   "source": [
    "df1['NH'] = NH"
   ]
  },
  {
   "cell_type": "code",
   "execution_count": 35,
   "metadata": {
    "scrolled": true
   },
   "outputs": [
    {
     "data": {
      "text/html": [
       "<div>\n",
       "<style scoped>\n",
       "    .dataframe tbody tr th:only-of-type {\n",
       "        vertical-align: middle;\n",
       "    }\n",
       "\n",
       "    .dataframe tbody tr th {\n",
       "        vertical-align: top;\n",
       "    }\n",
       "\n",
       "    .dataframe thead th {\n",
       "        text-align: right;\n",
       "    }\n",
       "</style>\n",
       "<table border=\"1\" class=\"dataframe\">\n",
       "  <thead>\n",
       "    <tr style=\"text-align: right;\">\n",
       "      <th></th>\n",
       "      <th>SW score</th>\n",
       "      <th>perc div.</th>\n",
       "      <th>perc del.</th>\n",
       "      <th>perc ins.</th>\n",
       "      <th>query sequence</th>\n",
       "      <th>position in query (begin)</th>\n",
       "      <th>position in query (end)</th>\n",
       "      <th>position in query (left)</th>\n",
       "      <th>compl</th>\n",
       "      <th>matching repeat (repeat)</th>\n",
       "      <th>matching repeat  (class/family)</th>\n",
       "      <th>position in  repeat (begin)</th>\n",
       "      <th>position in  repeat (end)</th>\n",
       "      <th>position in  repeat (left)</th>\n",
       "      <th>ID</th>\n",
       "      <th>NH</th>\n",
       "    </tr>\n",
       "  </thead>\n",
       "  <tbody>\n",
       "    <tr>\n",
       "      <td>0</td>\n",
       "      <td>17</td>\n",
       "      <td>5.0</td>\n",
       "      <td>0.0</td>\n",
       "      <td>0.0</td>\n",
       "      <td>D00795:30:CA2UTANXX:1:1107:10000:7096.106</td>\n",
       "      <td>3</td>\n",
       "      <td>23</td>\n",
       "      <td>(0)</td>\n",
       "      <td>+</td>\n",
       "      <td>(TG)n</td>\n",
       "      <td>Simple_repeat</td>\n",
       "      <td>1</td>\n",
       "      <td>21</td>\n",
       "      <td>(0)</td>\n",
       "      <td>1</td>\n",
       "      <td>106</td>\n",
       "    </tr>\n",
       "    <tr>\n",
       "      <td>1</td>\n",
       "      <td>119</td>\n",
       "      <td>9.8</td>\n",
       "      <td>5.7</td>\n",
       "      <td>0.0</td>\n",
       "      <td>D00795:30:CA2UTANXX:1:1107:10036:2459.1</td>\n",
       "      <td>3</td>\n",
       "      <td>125</td>\n",
       "      <td>(4)</td>\n",
       "      <td>+</td>\n",
       "      <td>LTR12E</td>\n",
       "      <td>LTR/ERV1</td>\n",
       "      <td>1051</td>\n",
       "      <td>1180</td>\n",
       "      <td>(142)</td>\n",
       "      <td>2</td>\n",
       "      <td>1</td>\n",
       "    </tr>\n",
       "    <tr>\n",
       "      <td>2</td>\n",
       "      <td>61</td>\n",
       "      <td>10.8</td>\n",
       "      <td>0.0</td>\n",
       "      <td>0.0</td>\n",
       "      <td>D00795:30:CA2UTANXX:1:1107:10040:2010.1</td>\n",
       "      <td>3</td>\n",
       "      <td>85</td>\n",
       "      <td>(3)</td>\n",
       "      <td>+</td>\n",
       "      <td>HERVP71A-int</td>\n",
       "      <td>LTR/ERV1</td>\n",
       "      <td>2000</td>\n",
       "      <td>2082</td>\n",
       "      <td>(5508)</td>\n",
       "      <td>3</td>\n",
       "      <td>1</td>\n",
       "    </tr>\n",
       "    <tr>\n",
       "      <td>3</td>\n",
       "      <td>7</td>\n",
       "      <td>36.5</td>\n",
       "      <td>13.8</td>\n",
       "      <td>0.8</td>\n",
       "      <td>D00795:30:CA2UTANXX:1:1107:10156:2993.1</td>\n",
       "      <td>5</td>\n",
       "      <td>120</td>\n",
       "      <td>(9)</td>\n",
       "      <td>C</td>\n",
       "      <td>L2</td>\n",
       "      <td>LINE/L2</td>\n",
       "      <td>(2094)</td>\n",
       "      <td>1325</td>\n",
       "      <td>1195</td>\n",
       "      <td>4</td>\n",
       "      <td>1</td>\n",
       "    </tr>\n",
       "    <tr>\n",
       "      <td>4</td>\n",
       "      <td>59</td>\n",
       "      <td>18.8</td>\n",
       "      <td>0.0</td>\n",
       "      <td>0.0</td>\n",
       "      <td>D00795:30:CA2UTANXX:1:1107:10174:4804.1</td>\n",
       "      <td>3</td>\n",
       "      <td>98</td>\n",
       "      <td>(5)</td>\n",
       "      <td>+</td>\n",
       "      <td>MLT1-int</td>\n",
       "      <td>LTR/ERVL-MaLR</td>\n",
       "      <td>170</td>\n",
       "      <td>265</td>\n",
       "      <td>(1106)</td>\n",
       "      <td>5</td>\n",
       "      <td>1</td>\n",
       "    </tr>\n",
       "    <tr>\n",
       "      <td>...</td>\n",
       "      <td>...</td>\n",
       "      <td>...</td>\n",
       "      <td>...</td>\n",
       "      <td>...</td>\n",
       "      <td>...</td>\n",
       "      <td>...</td>\n",
       "      <td>...</td>\n",
       "      <td>...</td>\n",
       "      <td>...</td>\n",
       "      <td>...</td>\n",
       "      <td>...</td>\n",
       "      <td>...</td>\n",
       "      <td>...</td>\n",
       "      <td>...</td>\n",
       "      <td>...</td>\n",
       "      <td>...</td>\n",
       "    </tr>\n",
       "    <tr>\n",
       "      <td>442</td>\n",
       "      <td>10</td>\n",
       "      <td>28.9</td>\n",
       "      <td>10.6</td>\n",
       "      <td>2.2</td>\n",
       "      <td>D00795:30:CA2UTANXX:1:1107:9801:5249.1</td>\n",
       "      <td>5</td>\n",
       "      <td>89</td>\n",
       "      <td>(40)</td>\n",
       "      <td>C</td>\n",
       "      <td>L4_C_Mam</td>\n",
       "      <td>LINE/RTE-X</td>\n",
       "      <td>(189)</td>\n",
       "      <td>4949</td>\n",
       "      <td>4858</td>\n",
       "      <td>441</td>\n",
       "      <td>1</td>\n",
       "    </tr>\n",
       "    <tr>\n",
       "      <td>443</td>\n",
       "      <td>40</td>\n",
       "      <td>13.2</td>\n",
       "      <td>0.0</td>\n",
       "      <td>0.0</td>\n",
       "      <td>D00795:30:CA2UTANXX:1:1107:9835:2840.1</td>\n",
       "      <td>5</td>\n",
       "      <td>57</td>\n",
       "      <td>(72)</td>\n",
       "      <td>C</td>\n",
       "      <td>Alu</td>\n",
       "      <td>SINE/Alu</td>\n",
       "      <td>(259)</td>\n",
       "      <td>53</td>\n",
       "      <td>1</td>\n",
       "      <td>442</td>\n",
       "      <td>1</td>\n",
       "    </tr>\n",
       "    <tr>\n",
       "      <td>444</td>\n",
       "      <td>93</td>\n",
       "      <td>20.0</td>\n",
       "      <td>0.0</td>\n",
       "      <td>0.0</td>\n",
       "      <td>D00795:30:CA2UTANXX:1:1107:9895:4973.1</td>\n",
       "      <td>5</td>\n",
       "      <td>129</td>\n",
       "      <td>(0)</td>\n",
       "      <td>+</td>\n",
       "      <td>L1MD2</td>\n",
       "      <td>LINE/L1</td>\n",
       "      <td>6136</td>\n",
       "      <td>6260</td>\n",
       "      <td>(99)</td>\n",
       "      <td>443</td>\n",
       "      <td>1</td>\n",
       "    </tr>\n",
       "    <tr>\n",
       "      <td>445</td>\n",
       "      <td>49</td>\n",
       "      <td>6.5</td>\n",
       "      <td>0.0</td>\n",
       "      <td>0.0</td>\n",
       "      <td>D00795:30:CA2UTANXX:1:1107:9899:6828.1</td>\n",
       "      <td>1</td>\n",
       "      <td>62</td>\n",
       "      <td>(0)</td>\n",
       "      <td>C</td>\n",
       "      <td>MER4B</td>\n",
       "      <td>LTR/ERV1</td>\n",
       "      <td>(346)</td>\n",
       "      <td>264</td>\n",
       "      <td>203</td>\n",
       "      <td>444</td>\n",
       "      <td>1</td>\n",
       "    </tr>\n",
       "    <tr>\n",
       "      <td>446</td>\n",
       "      <td>15</td>\n",
       "      <td>0.0</td>\n",
       "      <td>0.0</td>\n",
       "      <td>0.0</td>\n",
       "      <td>D00795:30:CA2UTANXX:1:1107:9971:2095.3</td>\n",
       "      <td>5</td>\n",
       "      <td>21</td>\n",
       "      <td>(3)</td>\n",
       "      <td>+</td>\n",
       "      <td>(TC)n</td>\n",
       "      <td>Simple_repeat</td>\n",
       "      <td>1</td>\n",
       "      <td>17</td>\n",
       "      <td>(0)</td>\n",
       "      <td>445</td>\n",
       "      <td>3</td>\n",
       "    </tr>\n",
       "  </tbody>\n",
       "</table>\n",
       "<p>447 rows × 16 columns</p>\n",
       "</div>"
      ],
      "text/plain": [
       "     SW score  perc div.  perc del.  perc ins.  \\\n",
       "0          17        5.0        0.0        0.0   \n",
       "1         119        9.8        5.7        0.0   \n",
       "2          61       10.8        0.0        0.0   \n",
       "3           7       36.5       13.8        0.8   \n",
       "4          59       18.8        0.0        0.0   \n",
       "..        ...        ...        ...        ...   \n",
       "442        10       28.9       10.6        2.2   \n",
       "443        40       13.2        0.0        0.0   \n",
       "444        93       20.0        0.0        0.0   \n",
       "445        49        6.5        0.0        0.0   \n",
       "446        15        0.0        0.0        0.0   \n",
       "\n",
       "                                query sequence  position in query (begin)  \\\n",
       "0    D00795:30:CA2UTANXX:1:1107:10000:7096.106                          3   \n",
       "1      D00795:30:CA2UTANXX:1:1107:10036:2459.1                          3   \n",
       "2      D00795:30:CA2UTANXX:1:1107:10040:2010.1                          3   \n",
       "3      D00795:30:CA2UTANXX:1:1107:10156:2993.1                          5   \n",
       "4      D00795:30:CA2UTANXX:1:1107:10174:4804.1                          3   \n",
       "..                                         ...                        ...   \n",
       "442     D00795:30:CA2UTANXX:1:1107:9801:5249.1                          5   \n",
       "443     D00795:30:CA2UTANXX:1:1107:9835:2840.1                          5   \n",
       "444     D00795:30:CA2UTANXX:1:1107:9895:4973.1                          5   \n",
       "445     D00795:30:CA2UTANXX:1:1107:9899:6828.1                          1   \n",
       "446     D00795:30:CA2UTANXX:1:1107:9971:2095.3                          5   \n",
       "\n",
       "     position in query (end) position in query (left) compl  \\\n",
       "0                         23                      (0)     +   \n",
       "1                        125                      (4)     +   \n",
       "2                         85                      (3)     +   \n",
       "3                        120                      (9)     C   \n",
       "4                         98                      (5)     +   \n",
       "..                       ...                      ...   ...   \n",
       "442                       89                     (40)     C   \n",
       "443                       57                     (72)     C   \n",
       "444                      129                      (0)     +   \n",
       "445                       62                      (0)     C   \n",
       "446                       21                      (3)     +   \n",
       "\n",
       "    matching repeat (repeat) matching repeat  (class/family)  \\\n",
       "0                      (TG)n                   Simple_repeat   \n",
       "1                     LTR12E                        LTR/ERV1   \n",
       "2               HERVP71A-int                        LTR/ERV1   \n",
       "3                         L2                         LINE/L2   \n",
       "4                   MLT1-int                   LTR/ERVL-MaLR   \n",
       "..                       ...                             ...   \n",
       "442                 L4_C_Mam                      LINE/RTE-X   \n",
       "443                      Alu                        SINE/Alu   \n",
       "444                    L1MD2                         LINE/L1   \n",
       "445                    MER4B                        LTR/ERV1   \n",
       "446                    (TC)n                   Simple_repeat   \n",
       "\n",
       "    position in  repeat (begin)  position in  repeat (end)  \\\n",
       "0                             1                         21   \n",
       "1                          1051                       1180   \n",
       "2                          2000                       2082   \n",
       "3                        (2094)                       1325   \n",
       "4                           170                        265   \n",
       "..                          ...                        ...   \n",
       "442                       (189)                       4949   \n",
       "443                       (259)                         53   \n",
       "444                        6136                       6260   \n",
       "445                       (346)                        264   \n",
       "446                           1                         17   \n",
       "\n",
       "    position in  repeat (left)   ID   NH  \n",
       "0                          (0)    1  106  \n",
       "1                        (142)    2    1  \n",
       "2                       (5508)    3    1  \n",
       "3                         1195    4    1  \n",
       "4                       (1106)    5    1  \n",
       "..                         ...  ...  ...  \n",
       "442                       4858  441    1  \n",
       "443                          1  442    1  \n",
       "444                       (99)  443    1  \n",
       "445                        203  444    1  \n",
       "446                        (0)  445    3  \n",
       "\n",
       "[447 rows x 16 columns]"
      ]
     },
     "execution_count": 35,
     "metadata": {},
     "output_type": "execute_result"
    }
   ],
   "source": [
    "df1"
   ]
  },
  {
   "cell_type": "code",
   "execution_count": 36,
   "metadata": {},
   "outputs": [],
   "source": [
    "df2 = pd.DataFrame()"
   ]
  },
  {
   "cell_type": "code",
   "execution_count": 37,
   "metadata": {},
   "outputs": [
    {
     "name": "stdout",
     "output_type": "stream",
     "text": [
      "0      106\n",
      "1        1\n",
      "2        1\n",
      "3        1\n",
      "4        1\n",
      "      ... \n",
      "442      1\n",
      "443      1\n",
      "444      1\n",
      "445      1\n",
      "446      3\n",
      "Name: NH, Length: 447, dtype: object\n"
     ]
    }
   ],
   "source": [
    "print(df1.NH)"
   ]
  },
  {
   "cell_type": "code",
   "execution_count": 38,
   "metadata": {},
   "outputs": [
    {
     "data": {
      "text/plain": [
       "<AxesSubplot:>"
      ]
     },
     "execution_count": 38,
     "metadata": {},
     "output_type": "execute_result"
    },
    {
     "data": {
      "image/png": "[encoded data removed]",
      "text/plain": [
       "<Figure size 432x288 with 1 Axes>"
      ]
     },
     "metadata": {
      "needs_background": "light"
     },
     "output_type": "display_data"
    }
   ],
   "source": [
    "df1.NH.hist()"
   ]
  },
  {
   "cell_type": "code",
   "execution_count": 39,
   "metadata": {},
   "outputs": [],
   "source": [
    "df2['query sequence'] = df1['query sequence']"
   ]
  },
  {
   "cell_type": "code",
   "execution_count": 40,
   "metadata": {},
   "outputs": [],
   "source": [
    "df2['matching repeat (repeat)'] = df1['matching repeat (repeat)']\n",
    "df2['matching repeat  (class/family)'] = df1['matching repeat  (class/family)']\n",
    "df2['NH'] = df1['NH']"
   ]
  },
  {
   "cell_type": "code",
   "execution_count": 41,
   "metadata": {},
   "outputs": [
    {
     "data": {
      "text/html": [
       "<div>\n",
       "<style scoped>\n",
       "    .dataframe tbody tr th:only-of-type {\n",
       "        vertical-align: middle;\n",
       "    }\n",
       "\n",
       "    .dataframe tbody tr th {\n",
       "        vertical-align: top;\n",
       "    }\n",
       "\n",
       "    .dataframe thead th {\n",
       "        text-align: right;\n",
       "    }\n",
       "</style>\n",
       "<table border=\"1\" class=\"dataframe\">\n",
       "  <thead>\n",
       "    <tr style=\"text-align: right;\">\n",
       "      <th></th>\n",
       "      <th>query sequence</th>\n",
       "      <th>matching repeat (repeat)</th>\n",
       "      <th>matching repeat  (class/family)</th>\n",
       "      <th>NH</th>\n",
       "    </tr>\n",
       "  </thead>\n",
       "  <tbody>\n",
       "    <tr>\n",
       "      <td>0</td>\n",
       "      <td>D00795:30:CA2UTANXX:1:1107:10000:7096.106</td>\n",
       "      <td>(TG)n</td>\n",
       "      <td>Simple_repeat</td>\n",
       "      <td>106</td>\n",
       "    </tr>\n",
       "    <tr>\n",
       "      <td>1</td>\n",
       "      <td>D00795:30:CA2UTANXX:1:1107:10036:2459.1</td>\n",
       "      <td>LTR12E</td>\n",
       "      <td>LTR/ERV1</td>\n",
       "      <td>1</td>\n",
       "    </tr>\n",
       "    <tr>\n",
       "      <td>2</td>\n",
       "      <td>D00795:30:CA2UTANXX:1:1107:10040:2010.1</td>\n",
       "      <td>HERVP71A-int</td>\n",
       "      <td>LTR/ERV1</td>\n",
       "      <td>1</td>\n",
       "    </tr>\n",
       "    <tr>\n",
       "      <td>3</td>\n",
       "      <td>D00795:30:CA2UTANXX:1:1107:10156:2993.1</td>\n",
       "      <td>L2</td>\n",
       "      <td>LINE/L2</td>\n",
       "      <td>1</td>\n",
       "    </tr>\n",
       "    <tr>\n",
       "      <td>4</td>\n",
       "      <td>D00795:30:CA2UTANXX:1:1107:10174:4804.1</td>\n",
       "      <td>MLT1-int</td>\n",
       "      <td>LTR/ERVL-MaLR</td>\n",
       "      <td>1</td>\n",
       "    </tr>\n",
       "    <tr>\n",
       "      <td>...</td>\n",
       "      <td>...</td>\n",
       "      <td>...</td>\n",
       "      <td>...</td>\n",
       "      <td>...</td>\n",
       "    </tr>\n",
       "    <tr>\n",
       "      <td>442</td>\n",
       "      <td>D00795:30:CA2UTANXX:1:1107:9801:5249.1</td>\n",
       "      <td>L4_C_Mam</td>\n",
       "      <td>LINE/RTE-X</td>\n",
       "      <td>1</td>\n",
       "    </tr>\n",
       "    <tr>\n",
       "      <td>443</td>\n",
       "      <td>D00795:30:CA2UTANXX:1:1107:9835:2840.1</td>\n",
       "      <td>Alu</td>\n",
       "      <td>SINE/Alu</td>\n",
       "      <td>1</td>\n",
       "    </tr>\n",
       "    <tr>\n",
       "      <td>444</td>\n",
       "      <td>D00795:30:CA2UTANXX:1:1107:9895:4973.1</td>\n",
       "      <td>L1MD2</td>\n",
       "      <td>LINE/L1</td>\n",
       "      <td>1</td>\n",
       "    </tr>\n",
       "    <tr>\n",
       "      <td>445</td>\n",
       "      <td>D00795:30:CA2UTANXX:1:1107:9899:6828.1</td>\n",
       "      <td>MER4B</td>\n",
       "      <td>LTR/ERV1</td>\n",
       "      <td>1</td>\n",
       "    </tr>\n",
       "    <tr>\n",
       "      <td>446</td>\n",
       "      <td>D00795:30:CA2UTANXX:1:1107:9971:2095.3</td>\n",
       "      <td>(TC)n</td>\n",
       "      <td>Simple_repeat</td>\n",
       "      <td>3</td>\n",
       "    </tr>\n",
       "  </tbody>\n",
       "</table>\n",
       "<p>447 rows × 4 columns</p>\n",
       "</div>"
      ],
      "text/plain": [
       "                                query sequence matching repeat (repeat)  \\\n",
       "0    D00795:30:CA2UTANXX:1:1107:10000:7096.106                    (TG)n   \n",
       "1      D00795:30:CA2UTANXX:1:1107:10036:2459.1                   LTR12E   \n",
       "2      D00795:30:CA2UTANXX:1:1107:10040:2010.1             HERVP71A-int   \n",
       "3      D00795:30:CA2UTANXX:1:1107:10156:2993.1                       L2   \n",
       "4      D00795:30:CA2UTANXX:1:1107:10174:4804.1                 MLT1-int   \n",
       "..                                         ...                      ...   \n",
       "442     D00795:30:CA2UTANXX:1:1107:9801:5249.1                 L4_C_Mam   \n",
       "443     D00795:30:CA2UTANXX:1:1107:9835:2840.1                      Alu   \n",
       "444     D00795:30:CA2UTANXX:1:1107:9895:4973.1                    L1MD2   \n",
       "445     D00795:30:CA2UTANXX:1:1107:9899:6828.1                    MER4B   \n",
       "446     D00795:30:CA2UTANXX:1:1107:9971:2095.3                    (TC)n   \n",
       "\n",
       "    matching repeat  (class/family)   NH  \n",
       "0                     Simple_repeat  106  \n",
       "1                          LTR/ERV1    1  \n",
       "2                          LTR/ERV1    1  \n",
       "3                           LINE/L2    1  \n",
       "4                     LTR/ERVL-MaLR    1  \n",
       "..                              ...  ...  \n",
       "442                      LINE/RTE-X    1  \n",
       "443                        SINE/Alu    1  \n",
       "444                         LINE/L1    1  \n",
       "445                        LTR/ERV1    1  \n",
       "446                   Simple_repeat    3  \n",
       "\n",
       "[447 rows x 4 columns]"
      ]
     },
     "execution_count": 41,
     "metadata": {},
     "output_type": "execute_result"
    }
   ],
   "source": [
    "df2"
   ]
  },
  {
   "cell_type": "markdown",
   "metadata": {},
   "source": [
    "Удалим все единицы"
   ]
  },
  {
   "cell_type": "code",
   "execution_count": 42,
   "metadata": {
    "scrolled": true
   },
   "outputs": [
    {
     "data": {
      "text/html": [
       "<div>\n",
       "<style scoped>\n",
       "    .dataframe tbody tr th:only-of-type {\n",
       "        vertical-align: middle;\n",
       "    }\n",
       "\n",
       "    .dataframe tbody tr th {\n",
       "        vertical-align: top;\n",
       "    }\n",
       "\n",
       "    .dataframe thead th {\n",
       "        text-align: right;\n",
       "    }\n",
       "</style>\n",
       "<table border=\"1\" class=\"dataframe\">\n",
       "  <thead>\n",
       "    <tr style=\"text-align: right;\">\n",
       "      <th></th>\n",
       "      <th>query sequence</th>\n",
       "      <th>matching repeat (repeat)</th>\n",
       "      <th>matching repeat  (class/family)</th>\n",
       "      <th>NH</th>\n",
       "    </tr>\n",
       "  </thead>\n",
       "  <tbody>\n",
       "    <tr>\n",
       "      <td>135</td>\n",
       "      <td>D00795:30:CA2UTANXX:1:1107:1560:4954.10</td>\n",
       "      <td>(GT)n</td>\n",
       "      <td>Simple_repeat</td>\n",
       "      <td>10</td>\n",
       "    </tr>\n",
       "    <tr>\n",
       "      <td>57</td>\n",
       "      <td>D00795:30:CA2UTANXX:1:1107:12575:3112.1000</td>\n",
       "      <td>AluSc8</td>\n",
       "      <td>SINE/Alu</td>\n",
       "      <td>1000</td>\n",
       "    </tr>\n",
       "    <tr>\n",
       "      <td>166</td>\n",
       "      <td>D00795:30:CA2UTANXX:1:1107:17300:4304.1000</td>\n",
       "      <td>(GT)n</td>\n",
       "      <td>Simple_repeat</td>\n",
       "      <td>1000</td>\n",
       "    </tr>\n",
       "    <tr>\n",
       "      <td>170</td>\n",
       "      <td>D00795:30:CA2UTANXX:1:1107:17431:3448.1000</td>\n",
       "      <td>(GT)n</td>\n",
       "      <td>Simple_repeat</td>\n",
       "      <td>1000</td>\n",
       "    </tr>\n",
       "    <tr>\n",
       "      <td>212</td>\n",
       "      <td>D00795:30:CA2UTANXX:1:1107:19250:3938.1000</td>\n",
       "      <td>(CA)n</td>\n",
       "      <td>Simple_repeat</td>\n",
       "      <td>1000</td>\n",
       "    </tr>\n",
       "    <tr>\n",
       "      <td>...</td>\n",
       "      <td>...</td>\n",
       "      <td>...</td>\n",
       "      <td>...</td>\n",
       "      <td>...</td>\n",
       "    </tr>\n",
       "    <tr>\n",
       "      <td>240</td>\n",
       "      <td>D00795:30:CA2UTANXX:1:1107:21094:4951.7</td>\n",
       "      <td>AluSq4</td>\n",
       "      <td>SINE/Alu</td>\n",
       "      <td>7</td>\n",
       "    </tr>\n",
       "    <tr>\n",
       "      <td>71</td>\n",
       "      <td>D00795:30:CA2UTANXX:1:1107:13073:4232.7</td>\n",
       "      <td>(T)n</td>\n",
       "      <td>Simple_repeat</td>\n",
       "      <td>7</td>\n",
       "    </tr>\n",
       "    <tr>\n",
       "      <td>294</td>\n",
       "      <td>D00795:30:CA2UTANXX:1:1107:4224:5034.7</td>\n",
       "      <td>(TGGA)n</td>\n",
       "      <td>Simple_repeat</td>\n",
       "      <td>7</td>\n",
       "    </tr>\n",
       "    <tr>\n",
       "      <td>21</td>\n",
       "      <td>D00795:30:CA2UTANXX:1:1107:11033:2035.8</td>\n",
       "      <td>ALR/Alpha</td>\n",
       "      <td>Satellite/centr</td>\n",
       "      <td>8</td>\n",
       "    </tr>\n",
       "    <tr>\n",
       "      <td>233</td>\n",
       "      <td>D00795:30:CA2UTANXX:1:1107:20479:5778.8</td>\n",
       "      <td>(AT)n</td>\n",
       "      <td>Simple_repeat</td>\n",
       "      <td>8</td>\n",
       "    </tr>\n",
       "  </tbody>\n",
       "</table>\n",
       "<p>89 rows × 4 columns</p>\n",
       "</div>"
      ],
      "text/plain": [
       "                                 query sequence matching repeat (repeat)  \\\n",
       "135     D00795:30:CA2UTANXX:1:1107:1560:4954.10                    (GT)n   \n",
       "57   D00795:30:CA2UTANXX:1:1107:12575:3112.1000                   AluSc8   \n",
       "166  D00795:30:CA2UTANXX:1:1107:17300:4304.1000                    (GT)n   \n",
       "170  D00795:30:CA2UTANXX:1:1107:17431:3448.1000                    (GT)n   \n",
       "212  D00795:30:CA2UTANXX:1:1107:19250:3938.1000                    (CA)n   \n",
       "..                                          ...                      ...   \n",
       "240     D00795:30:CA2UTANXX:1:1107:21094:4951.7                   AluSq4   \n",
       "71      D00795:30:CA2UTANXX:1:1107:13073:4232.7                     (T)n   \n",
       "294      D00795:30:CA2UTANXX:1:1107:4224:5034.7                  (TGGA)n   \n",
       "21      D00795:30:CA2UTANXX:1:1107:11033:2035.8                ALR/Alpha   \n",
       "233     D00795:30:CA2UTANXX:1:1107:20479:5778.8                    (AT)n   \n",
       "\n",
       "    matching repeat  (class/family)    NH  \n",
       "135                   Simple_repeat    10  \n",
       "57                         SINE/Alu  1000  \n",
       "166                   Simple_repeat  1000  \n",
       "170                   Simple_repeat  1000  \n",
       "212                   Simple_repeat  1000  \n",
       "..                              ...   ...  \n",
       "240                        SINE/Alu     7  \n",
       "71                    Simple_repeat     7  \n",
       "294                   Simple_repeat     7  \n",
       "21                  Satellite/centr     8  \n",
       "233                   Simple_repeat     8  \n",
       "\n",
       "[89 rows x 4 columns]"
      ]
     },
     "execution_count": 42,
     "metadata": {},
     "output_type": "execute_result"
    }
   ],
   "source": [
    "df3 = df2.loc[df2.NH != '1', :].sort_values(['NH', 'matching repeat  (class/family)'])\n",
    "df3"
   ]
  },
  {
   "cell_type": "code",
   "execution_count": 43,
   "metadata": {},
   "outputs": [
    {
     "data": {
      "text/plain": [
       "matching repeat  (class/family)\n",
       "LINE/L1             8\n",
       "LINE/L2             1\n",
       "SINE/Alu            8\n",
       "Satellite           4\n",
       "Satellite/centr     4\n",
       "Simple_repeat      49\n",
       "rRNA               14\n",
       "snRNA               1\n",
       "dtype: int64"
      ]
     },
     "execution_count": 43,
     "metadata": {},
     "output_type": "execute_result"
    }
   ],
   "source": [
    "df3.groupby(['matching repeat  (class/family)']).size()"
   ]
  },
  {
   "cell_type": "code",
   "execution_count": 44,
   "metadata": {},
   "outputs": [
    {
     "data": {
      "image/png": "[encoded data removed]",
      "text/plain": [
       "<Figure size 432x288 with 1 Axes>"
      ]
     },
     "metadata": {
      "needs_background": "light"
     },
     "output_type": "display_data"
    }
   ],
   "source": [
    "dict_class2 = df3.groupby(['matching repeat  (class/family)']).size().to_dict()\n",
    "fig, ax = plt.subplots()\n",
    "ax.bar(list(dict_class2.keys()), list(dict_class2.values()))\n",
    "plt.title('DNA multi reads annotation', fontsize=15)\n",
    "plt.xlabel('class/family', fontsize=10)\n",
    "plt.ylabel('Count of reads', fontsize=10)\n",
    "plt.xticks(rotation = 90)\n",
    "\n",
    "plt.savefig('dna_multi_annot.png')"
   ]
  },
  {
   "cell_type": "code",
   "execution_count": 45,
   "metadata": {},
   "outputs": [],
   "source": [
    "df4 = df2.sort_values(['matching repeat  (class/family)'])"
   ]
  },
  {
   "cell_type": "code",
   "execution_count": 46,
   "metadata": {},
   "outputs": [],
   "source": [
    "dict_class = df4.groupby(['matching repeat  (class/family)']).size().to_dict()"
   ]
  },
  {
   "cell_type": "code",
   "execution_count": 47,
   "metadata": {},
   "outputs": [
    {
     "data": {
      "image/png": "[encoded data removed]",
      "text/plain": [
       "<Figure size 432x288 with 1 Axes>"
      ]
     },
     "metadata": {
      "needs_background": "light"
     },
     "output_type": "display_data"
    }
   ],
   "source": [
    "fig, ax = plt.subplots()\n",
    "ax.bar(list(dict_class.keys()), list(dict_class.values()))\n",
    "plt.title('DNA reads annotation', fontsize=15)\n",
    "plt.xlabel('class/family', fontsize=10)\n",
    "plt.ylabel('Count of reads', fontsize=10)\n",
    "plt.xticks(rotation = 90)\n",
    "\n",
    "plt.savefig('dna_annot.png')"
   ]
  },
  {
   "cell_type": "code",
   "execution_count": 48,
   "metadata": {},
   "outputs": [
    {
     "data": {
      "text/plain": [
       "<matplotlib.legend.Legend at 0x7f9b21b24c50>"
      ]
     },
     "execution_count": 48,
     "metadata": {},
     "output_type": "execute_result"
    },
    {
     "data": {
      "image/png": "[encoded data removed]",
      "text/plain": [
       "<Figure size 432x288 with 1 Axes>"
      ]
     },
     "metadata": {
      "needs_background": "light"
     },
     "output_type": "display_data"
    }
   ],
   "source": [
    "fig, ax = plt.subplots()\n",
    "#ax.bar(list(new_bin.keys()), list(new_bin.values()), log=True, align='edge', width=0.05)\n",
    "ax.bar(list(new_bin.keys()), list(new_bin.values()), width=0.05,  label='LINE')\n",
    "ax.bar(list(new_bin.keys()), list(new_bin.values()), width=0.05, bottom=list(new_bin.values()),\n",
    "       label='SINE')\n",
    "ax.set_ylabel('Count of reads')\n",
    "ax.set_title('DNAannot')\n",
    "ax.legend()"
   ]
  },
  {
   "cell_type": "code",
   "execution_count": 49,
   "metadata": {},
   "outputs": [
    {
     "data": {
      "text/html": [
       "<div>\n",
       "<style scoped>\n",
       "    .dataframe tbody tr th:only-of-type {\n",
       "        vertical-align: middle;\n",
       "    }\n",
       "\n",
       "    .dataframe tbody tr th {\n",
       "        vertical-align: top;\n",
       "    }\n",
       "\n",
       "    .dataframe thead th {\n",
       "        text-align: right;\n",
       "    }\n",
       "</style>\n",
       "<table border=\"1\" class=\"dataframe\">\n",
       "  <thead>\n",
       "    <tr style=\"text-align: right;\">\n",
       "      <th></th>\n",
       "      <th>query sequence</th>\n",
       "      <th>matching repeat (repeat)</th>\n",
       "      <th>matching repeat  (class/family)</th>\n",
       "      <th>NH</th>\n",
       "    </tr>\n",
       "  </thead>\n",
       "  <tbody>\n",
       "    <tr>\n",
       "      <td>0</td>\n",
       "      <td>D00795:30:CA2UTANXX:1:1107:10000:7096.106</td>\n",
       "      <td>(TG)n</td>\n",
       "      <td>Simple_repeat</td>\n",
       "      <td>106</td>\n",
       "    </tr>\n",
       "    <tr>\n",
       "      <td>1</td>\n",
       "      <td>D00795:30:CA2UTANXX:1:1107:10036:2459.1</td>\n",
       "      <td>LTR12E</td>\n",
       "      <td>LTR/ERV1</td>\n",
       "      <td>1</td>\n",
       "    </tr>\n",
       "    <tr>\n",
       "      <td>2</td>\n",
       "      <td>D00795:30:CA2UTANXX:1:1107:10040:2010.1</td>\n",
       "      <td>HERVP71A-int</td>\n",
       "      <td>LTR/ERV1</td>\n",
       "      <td>1</td>\n",
       "    </tr>\n",
       "    <tr>\n",
       "      <td>3</td>\n",
       "      <td>D00795:30:CA2UTANXX:1:1107:10156:2993.1</td>\n",
       "      <td>L2</td>\n",
       "      <td>LINE/L2</td>\n",
       "      <td>1</td>\n",
       "    </tr>\n",
       "    <tr>\n",
       "      <td>4</td>\n",
       "      <td>D00795:30:CA2UTANXX:1:1107:10174:4804.1</td>\n",
       "      <td>MLT1-int</td>\n",
       "      <td>LTR/ERVL-MaLR</td>\n",
       "      <td>1</td>\n",
       "    </tr>\n",
       "    <tr>\n",
       "      <td>...</td>\n",
       "      <td>...</td>\n",
       "      <td>...</td>\n",
       "      <td>...</td>\n",
       "      <td>...</td>\n",
       "    </tr>\n",
       "    <tr>\n",
       "      <td>442</td>\n",
       "      <td>D00795:30:CA2UTANXX:1:1107:9801:5249.1</td>\n",
       "      <td>L4_C_Mam</td>\n",
       "      <td>LINE/RTE-X</td>\n",
       "      <td>1</td>\n",
       "    </tr>\n",
       "    <tr>\n",
       "      <td>443</td>\n",
       "      <td>D00795:30:CA2UTANXX:1:1107:9835:2840.1</td>\n",
       "      <td>Alu</td>\n",
       "      <td>SINE/Alu</td>\n",
       "      <td>1</td>\n",
       "    </tr>\n",
       "    <tr>\n",
       "      <td>444</td>\n",
       "      <td>D00795:30:CA2UTANXX:1:1107:9895:4973.1</td>\n",
       "      <td>L1MD2</td>\n",
       "      <td>LINE/L1</td>\n",
       "      <td>1</td>\n",
       "    </tr>\n",
       "    <tr>\n",
       "      <td>445</td>\n",
       "      <td>D00795:30:CA2UTANXX:1:1107:9899:6828.1</td>\n",
       "      <td>MER4B</td>\n",
       "      <td>LTR/ERV1</td>\n",
       "      <td>1</td>\n",
       "    </tr>\n",
       "    <tr>\n",
       "      <td>446</td>\n",
       "      <td>D00795:30:CA2UTANXX:1:1107:9971:2095.3</td>\n",
       "      <td>(TC)n</td>\n",
       "      <td>Simple_repeat</td>\n",
       "      <td>3</td>\n",
       "    </tr>\n",
       "  </tbody>\n",
       "</table>\n",
       "<p>447 rows × 4 columns</p>\n",
       "</div>"
      ],
      "text/plain": [
       "                                query sequence matching repeat (repeat)  \\\n",
       "0    D00795:30:CA2UTANXX:1:1107:10000:7096.106                    (TG)n   \n",
       "1      D00795:30:CA2UTANXX:1:1107:10036:2459.1                   LTR12E   \n",
       "2      D00795:30:CA2UTANXX:1:1107:10040:2010.1             HERVP71A-int   \n",
       "3      D00795:30:CA2UTANXX:1:1107:10156:2993.1                       L2   \n",
       "4      D00795:30:CA2UTANXX:1:1107:10174:4804.1                 MLT1-int   \n",
       "..                                         ...                      ...   \n",
       "442     D00795:30:CA2UTANXX:1:1107:9801:5249.1                 L4_C_Mam   \n",
       "443     D00795:30:CA2UTANXX:1:1107:9835:2840.1                      Alu   \n",
       "444     D00795:30:CA2UTANXX:1:1107:9895:4973.1                    L1MD2   \n",
       "445     D00795:30:CA2UTANXX:1:1107:9899:6828.1                    MER4B   \n",
       "446     D00795:30:CA2UTANXX:1:1107:9971:2095.3                    (TC)n   \n",
       "\n",
       "    matching repeat  (class/family)   NH  \n",
       "0                     Simple_repeat  106  \n",
       "1                          LTR/ERV1    1  \n",
       "2                          LTR/ERV1    1  \n",
       "3                           LINE/L2    1  \n",
       "4                     LTR/ERVL-MaLR    1  \n",
       "..                              ...  ...  \n",
       "442                      LINE/RTE-X    1  \n",
       "443                        SINE/Alu    1  \n",
       "444                         LINE/L1    1  \n",
       "445                        LTR/ERV1    1  \n",
       "446                   Simple_repeat    3  \n",
       "\n",
       "[447 rows x 4 columns]"
      ]
     },
     "execution_count": 49,
     "metadata": {},
     "output_type": "execute_result"
    }
   ],
   "source": [
    "df2"
   ]
  },
  {
   "cell_type": "code",
   "execution_count": 50,
   "metadata": {},
   "outputs": [],
   "source": [
    "pl_uni = df2.groupby(['matching repeat  (class/family)'])"
   ]
  },
  {
   "cell_type": "code",
   "execution_count": 51,
   "metadata": {},
   "outputs": [
    {
     "data": {
      "image/png": "[encoded data removed]",
      "text/plain": [
       "<Figure size 432x288 with 1 Axes>"
      ]
     },
     "metadata": {
      "needs_background": "light"
     },
     "output_type": "display_data"
    },
    {
     "data": {
      "image/png": "[encoded data removed]",
      "text/plain": [
       "<Figure size 432x288 with 1 Axes>"
      ]
     },
     "metadata": {
      "needs_background": "light"
     },
     "output_type": "display_data"
    },
    {
     "data": {
      "image/png": "[encoded data removed]",
      "text/plain": [
       "<Figure size 432x288 with 1 Axes>"
      ]
     },
     "metadata": {
      "needs_background": "light"
     },
     "output_type": "display_data"
    },
    {
     "data": {
      "image/png": "[encoded data removed]",
      "text/plain": [
       "<Figure size 432x288 with 1 Axes>"
      ]
     },
     "metadata": {
      "needs_background": "light"
     },
     "output_type": "display_data"
    },
    {
     "data": {
      "image/png": "[encoded data removed]",
      "text/plain": [
       "<Figure size 432x288 with 1 Axes>"
      ]
     },
     "metadata": {
      "needs_background": "light"
     },
     "output_type": "display_data"
    },
    {
     "data": {
      "image/png": "[encoded data removed]",
      "text/plain": [
       "<Figure size 432x288 with 1 Axes>"
      ]
     },
     "metadata": {
      "needs_background": "light"
     },
     "output_type": "display_data"
    },
    {
     "data": {
      "image/png": "[encoded data removed]",
      "text/plain": [
       "<Figure size 432x288 with 1 Axes>"
      ]
     },
     "metadata": {
      "needs_background": "light"
     },
     "output_type": "display_data"
    },
    {
     "data": {
      "image/png": "[encoded data removed]",
      "text/plain": [
       "<Figure size 432x288 with 1 Axes>"
      ]
     },
     "metadata": {
      "needs_background": "light"
     },
     "output_type": "display_data"
    },
    {
     "data": {
      "image/png": "[encoded data removed]",
      "text/plain": [
       "<Figure size 432x288 with 1 Axes>"
      ]
     },
     "metadata": {
      "needs_background": "light"
     },
     "output_type": "display_data"
    },
    {
     "data": {
      "image/png": "[encoded data removed]",
      "text/plain": [
       "<Figure size 432x288 with 1 Axes>"
      ]
     },
     "metadata": {
      "needs_background": "light"
     },
     "output_type": "display_data"
    },
    {
     "data": {
      "image/png": "[encoded data removed]",
      "text/plain": [
       "<Figure size 432x288 with 1 Axes>"
      ]
     },
     "metadata": {
      "needs_background": "light"
     },
     "output_type": "display_data"
    },
    {
     "data": {
      "image/png": "[encoded data removed]",
      "text/plain": [
       "<Figure size 432x288 with 1 Axes>"
      ]
     },
     "metadata": {
      "needs_background": "light"
     },
     "output_type": "display_data"
    },
    {
     "data": {
      "image/png": "[encoded data removed]",
      "text/plain": [
       "<Figure size 432x288 with 1 Axes>"
      ]
     },
     "metadata": {
      "needs_background": "light"
     },
     "output_type": "display_data"
    },
    {
     "data": {
      "image/png": "[encoded data removed]",
      "text/plain": [
       "<Figure size 432x288 with 1 Axes>"
      ]
     },
     "metadata": {
      "needs_background": "light"
     },
     "output_type": "display_data"
    },
    {
     "data": {
      "image/png": "[encoded data removed]",
      "text/plain": [
       "<Figure size 432x288 with 1 Axes>"
      ]
     },
     "metadata": {
      "needs_background": "light"
     },
     "output_type": "display_data"
    },
    {
     "data": {
      "image/png": "[encoded data removed]",
      "text/plain": [
       "<Figure size 432x288 with 1 Axes>"
      ]
     },
     "metadata": {
      "needs_background": "light"
     },
     "output_type": "display_data"
    },
    {
     "data": {
      "image/png": "[encoded data removed]",
      "text/plain": [
       "<Figure size 432x288 with 1 Axes>"
      ]
     },
     "metadata": {
      "needs_background": "light"
     },
     "output_type": "display_data"
    },
    {
     "data": {
      "image/png": "[encoded data removed]",
      "text/plain": [
       "<Figure size 432x288 with 1 Axes>"
      ]
     },
     "metadata": {
      "needs_background": "light"
     },
     "output_type": "display_data"
    },
    {
     "data": {
      "image/png": "[encoded data removed]",
      "text/plain": [
       "<Figure size 432x288 with 1 Axes>"
      ]
     },
     "metadata": {
      "needs_background": "light"
     },
     "output_type": "display_data"
    },
    {
     "data": {
      "image/png": "[encoded data removed]",
      "text/plain": [
       "<Figure size 432x288 with 1 Axes>"
      ]
     },
     "metadata": {
      "needs_background": "light"
     },
     "output_type": "display_data"
    }
   ],
   "source": [
    "dirr = 0\n",
    "for rep in pl_uni.groups.keys():\n",
    "    rs = pl_uni.get_group(rep)#['matching repeat (repeat)'].values\n",
    "    rs = rs.sort_values(['matching repeat (repeat)'])\n",
    "    rs = rs.groupby(['matching repeat (repeat)']).size().to_dict()\n",
    "    fig, ax = plt.subplots()\n",
    "    ax.bar(list(rs.keys()), list(rs.values()))\n",
    "    plt.title('{}'.format(rep), fontsize=15)\n",
    "    plt.xlabel('matching repeat (repeat)', fontsize=10)\n",
    "    plt.ylabel('Count of reads', fontsize=10)\n",
    "    plt.xticks(rotation = 90)\n",
    "    name = 'dna_all_reads_repeats{}.png'.format(dirr)\n",
    "    dirr+=1\n",
    "    plt.savefig(name)"
   ]
  },
  {
   "cell_type": "markdown",
   "metadata": {},
   "source": [
    "## Построение графиков по распределению на NH"
   ]
  },
  {
   "cell_type": "code",
   "execution_count": 52,
   "metadata": {},
   "outputs": [
    {
     "data": {
      "text/plain": [
       "<matplotlib.legend.Legend at 0x7f9b21581050>"
      ]
     },
     "execution_count": 52,
     "metadata": {},
     "output_type": "execute_result"
    },
    {
     "data": {
      "image/png": "[encoded data removed]",
      "text/plain": [
       "<Figure size 432x288 with 1 Axes>"
      ]
     },
     "metadata": {
      "needs_background": "light"
     },
     "output_type": "display_data"
    }
   ],
   "source": [
    "fig, ax = plt.subplots()\n",
    "#ax.bar(list(new_bin.keys()), list(new_bin.values()), log=True, align='edge', width=0.05)\n",
    "ax.bar(list(new_bin.keys()), list(new_bin.values()), width=0.05,  label='LINE', log=True)\n",
    "ax.bar(list(new_bin.keys()), list(new_bin.values()), width=0.05, bottom=list(new_bin.values()),\n",
    "       label='SINE')\n",
    "ax.set_ylabel('Count of reads')\n",
    "ax.set_title('DNAannot')\n",
    "ax.legend()"
   ]
  },
  {
   "cell_type": "code",
   "execution_count": 53,
   "metadata": {},
   "outputs": [
    {
     "data": {
      "text/html": [
       "<div>\n",
       "<style scoped>\n",
       "    .dataframe tbody tr th:only-of-type {\n",
       "        vertical-align: middle;\n",
       "    }\n",
       "\n",
       "    .dataframe tbody tr th {\n",
       "        vertical-align: top;\n",
       "    }\n",
       "\n",
       "    .dataframe thead th {\n",
       "        text-align: right;\n",
       "    }\n",
       "</style>\n",
       "<table border=\"1\" class=\"dataframe\">\n",
       "  <thead>\n",
       "    <tr style=\"text-align: right;\">\n",
       "      <th></th>\n",
       "      <th>query sequence</th>\n",
       "      <th>matching repeat (repeat)</th>\n",
       "      <th>matching repeat  (class/family)</th>\n",
       "      <th>NH</th>\n",
       "    </tr>\n",
       "  </thead>\n",
       "  <tbody>\n",
       "    <tr>\n",
       "      <td>0</td>\n",
       "      <td>D00795:30:CA2UTANXX:1:1107:10000:7096.106</td>\n",
       "      <td>(TG)n</td>\n",
       "      <td>Simple_repeat</td>\n",
       "      <td>106</td>\n",
       "    </tr>\n",
       "    <tr>\n",
       "      <td>1</td>\n",
       "      <td>D00795:30:CA2UTANXX:1:1107:10036:2459.1</td>\n",
       "      <td>LTR12E</td>\n",
       "      <td>LTR/ERV1</td>\n",
       "      <td>1</td>\n",
       "    </tr>\n",
       "    <tr>\n",
       "      <td>2</td>\n",
       "      <td>D00795:30:CA2UTANXX:1:1107:10040:2010.1</td>\n",
       "      <td>HERVP71A-int</td>\n",
       "      <td>LTR/ERV1</td>\n",
       "      <td>1</td>\n",
       "    </tr>\n",
       "    <tr>\n",
       "      <td>3</td>\n",
       "      <td>D00795:30:CA2UTANXX:1:1107:10156:2993.1</td>\n",
       "      <td>L2</td>\n",
       "      <td>LINE/L2</td>\n",
       "      <td>1</td>\n",
       "    </tr>\n",
       "    <tr>\n",
       "      <td>4</td>\n",
       "      <td>D00795:30:CA2UTANXX:1:1107:10174:4804.1</td>\n",
       "      <td>MLT1-int</td>\n",
       "      <td>LTR/ERVL-MaLR</td>\n",
       "      <td>1</td>\n",
       "    </tr>\n",
       "    <tr>\n",
       "      <td>...</td>\n",
       "      <td>...</td>\n",
       "      <td>...</td>\n",
       "      <td>...</td>\n",
       "      <td>...</td>\n",
       "    </tr>\n",
       "    <tr>\n",
       "      <td>442</td>\n",
       "      <td>D00795:30:CA2UTANXX:1:1107:9801:5249.1</td>\n",
       "      <td>L4_C_Mam</td>\n",
       "      <td>LINE/RTE-X</td>\n",
       "      <td>1</td>\n",
       "    </tr>\n",
       "    <tr>\n",
       "      <td>443</td>\n",
       "      <td>D00795:30:CA2UTANXX:1:1107:9835:2840.1</td>\n",
       "      <td>Alu</td>\n",
       "      <td>SINE/Alu</td>\n",
       "      <td>1</td>\n",
       "    </tr>\n",
       "    <tr>\n",
       "      <td>444</td>\n",
       "      <td>D00795:30:CA2UTANXX:1:1107:9895:4973.1</td>\n",
       "      <td>L1MD2</td>\n",
       "      <td>LINE/L1</td>\n",
       "      <td>1</td>\n",
       "    </tr>\n",
       "    <tr>\n",
       "      <td>445</td>\n",
       "      <td>D00795:30:CA2UTANXX:1:1107:9899:6828.1</td>\n",
       "      <td>MER4B</td>\n",
       "      <td>LTR/ERV1</td>\n",
       "      <td>1</td>\n",
       "    </tr>\n",
       "    <tr>\n",
       "      <td>446</td>\n",
       "      <td>D00795:30:CA2UTANXX:1:1107:9971:2095.3</td>\n",
       "      <td>(TC)n</td>\n",
       "      <td>Simple_repeat</td>\n",
       "      <td>3</td>\n",
       "    </tr>\n",
       "  </tbody>\n",
       "</table>\n",
       "<p>447 rows × 4 columns</p>\n",
       "</div>"
      ],
      "text/plain": [
       "                                query sequence matching repeat (repeat)  \\\n",
       "0    D00795:30:CA2UTANXX:1:1107:10000:7096.106                    (TG)n   \n",
       "1      D00795:30:CA2UTANXX:1:1107:10036:2459.1                   LTR12E   \n",
       "2      D00795:30:CA2UTANXX:1:1107:10040:2010.1             HERVP71A-int   \n",
       "3      D00795:30:CA2UTANXX:1:1107:10156:2993.1                       L2   \n",
       "4      D00795:30:CA2UTANXX:1:1107:10174:4804.1                 MLT1-int   \n",
       "..                                         ...                      ...   \n",
       "442     D00795:30:CA2UTANXX:1:1107:9801:5249.1                 L4_C_Mam   \n",
       "443     D00795:30:CA2UTANXX:1:1107:9835:2840.1                      Alu   \n",
       "444     D00795:30:CA2UTANXX:1:1107:9895:4973.1                    L1MD2   \n",
       "445     D00795:30:CA2UTANXX:1:1107:9899:6828.1                    MER4B   \n",
       "446     D00795:30:CA2UTANXX:1:1107:9971:2095.3                    (TC)n   \n",
       "\n",
       "    matching repeat  (class/family)   NH  \n",
       "0                     Simple_repeat  106  \n",
       "1                          LTR/ERV1    1  \n",
       "2                          LTR/ERV1    1  \n",
       "3                           LINE/L2    1  \n",
       "4                     LTR/ERVL-MaLR    1  \n",
       "..                              ...  ...  \n",
       "442                      LINE/RTE-X    1  \n",
       "443                        SINE/Alu    1  \n",
       "444                         LINE/L1    1  \n",
       "445                        LTR/ERV1    1  \n",
       "446                   Simple_repeat    3  \n",
       "\n",
       "[447 rows x 4 columns]"
      ]
     },
     "execution_count": 53,
     "metadata": {},
     "output_type": "execute_result"
    }
   ],
   "source": [
    "df2"
   ]
  },
  {
   "cell_type": "markdown",
   "metadata": {},
   "source": [
    "Преобразуем все проаннотированные в словарь "
   ]
  },
  {
   "cell_type": "code",
   "execution_count": 54,
   "metadata": {},
   "outputs": [],
   "source": [
    "df_annot = df2.sort_values(['NH'])\n",
    "annot_dict = df_annot.groupby(['NH']).size().to_dict()"
   ]
  },
  {
   "cell_type": "code",
   "execution_count": 55,
   "metadata": {},
   "outputs": [
    {
     "name": "stdout",
     "output_type": "stream",
     "text": [
      "{'1': 358, '10': 1, '1000': 8, '106': 1, '11': 2, '117': 1, '120': 1, '13': 2, '18': 2, '195': 1, '2': 11, '202': 1, '207': 1, '22': 1, '25': 1, '277': 1, '3': 15, '301': 1, '32': 1, '329': 1, '34': 1, '346': 2, '38': 1, '4': 13, '42': 1, '43': 1, '44': 1, '47': 1, '5': 1, '54': 1, '57': 1, '6': 4, '60': 1, '65': 1, '7': 4, '8': 2}\n"
     ]
    }
   ],
   "source": [
    "print(annot_dict)"
   ]
  },
  {
   "cell_type": "code",
   "execution_count": 56,
   "metadata": {},
   "outputs": [],
   "source": [
    "df_s = {int(k):v for k,v in annot_dict.items()}"
   ]
  },
  {
   "cell_type": "code",
   "execution_count": 57,
   "metadata": {},
   "outputs": [
    {
     "data": {
      "text/plain": [
       "358"
      ]
     },
     "execution_count": 57,
     "metadata": {},
     "output_type": "execute_result"
    }
   ],
   "source": [
    "df_s.pop(1)"
   ]
  },
  {
   "cell_type": "code",
   "execution_count": 58,
   "metadata": {},
   "outputs": [
    {
     "data": {
      "text/plain": [
       "{1.0: 1,\n",
       " 3.0: 8,\n",
       " 2.0253058652647704: 1,\n",
       " 1.0413926851582251: 2,\n",
       " 2.0681858617461617: 1,\n",
       " 2.0791812460476247: 1,\n",
       " 1.1139433523068367: 2,\n",
       " 1.255272505103306: 2,\n",
       " 2.290034611362518: 1,\n",
       " 0.3010299956639812: 11,\n",
       " 2.305351369446624: 1,\n",
       " 2.315970345456918: 1,\n",
       " 1.3424226808222062: 1,\n",
       " 1.3979400086720377: 1,\n",
       " 2.4424797690644486: 1,\n",
       " 0.47712125471966244: 15,\n",
       " 2.4785664955938436: 1,\n",
       " 1.505149978319906: 1,\n",
       " 2.5171958979499744: 1,\n",
       " 1.5314789170422551: 1,\n",
       " 2.5390760987927767: 2,\n",
       " 1.5797835966168101: 1,\n",
       " 0.6020599913279624: 13,\n",
       " 1.6232492903979006: 1,\n",
       " 1.6334684555795864: 1,\n",
       " 1.6434526764861874: 1,\n",
       " 1.6720978579357175: 1,\n",
       " 0.6989700043360189: 1,\n",
       " 1.7323937598229686: 1,\n",
       " 1.7558748556724915: 1,\n",
       " 0.7781512503836436: 4,\n",
       " 1.7781512503836436: 1,\n",
       " 1.8129133566428555: 1,\n",
       " 0.8450980400142568: 4,\n",
       " 0.9030899869919435: 2}"
      ]
     },
     "execution_count": 58,
     "metadata": {},
     "output_type": "execute_result"
    }
   ],
   "source": [
    "dfs_logx = {math.log10(k):v for k,v in df_s.items()}\n",
    "dfs_logx"
   ]
  },
  {
   "cell_type": "code",
   "execution_count": 59,
   "metadata": {},
   "outputs": [
    {
     "data": {
      "text/plain": [
       "Text(0.5, 1.0, 'DNA only annot')"
      ]
     },
     "execution_count": 59,
     "metadata": {},
     "output_type": "execute_result"
    },
    {
     "data": {
      "image/png": "[encoded data removed]",
      "text/plain": [
       "<Figure size 432x288 with 1 Axes>"
      ]
     },
     "metadata": {
      "needs_background": "light"
     },
     "output_type": "display_data"
    }
   ],
   "source": [
    "fig, ax = plt.subplots()\n",
    "ax.bar(list(dfs_logx.keys()), list(dfs_logx.values()), width=0.05,  label='LINE')\n",
    "ax.set_ylabel('Count of reads (normal_scale)')\n",
    "ax.set_xlabel('n map (log(10) scale)')\n",
    "ax.set_title('DNA only annot')"
   ]
  },
  {
   "cell_type": "markdown",
   "metadata": {},
   "source": [
    "До логарифмирования вычтем количество проаннотированных из каждой группы"
   ]
  },
  {
   "cell_type": "code",
   "execution_count": 60,
   "metadata": {},
   "outputs": [
    {
     "name": "stdout",
     "output_type": "stream",
     "text": [
      "{10: 1, 1000: 8, 106: 1, 11: 2, 117: 1, 120: 1, 13: 2, 18: 2, 195: 1, 2: 11, 202: 1, 207: 1, 22: 1, 25: 1, 277: 1, 3: 15, 301: 1, 32: 1, 329: 1, 34: 1, 346: 2, 38: 1, 4: 13, 42: 1, 43: 1, 44: 1, 47: 1, 5: 1, 54: 1, 57: 1, 6: 4, 60: 1, 65: 1, 7: 4, 8: 2}\n"
     ]
    }
   ],
   "source": [
    "print(df_s)"
   ]
  },
  {
   "cell_type": "code",
   "execution_count": 61,
   "metadata": {},
   "outputs": [
    {
     "data": {
      "text/plain": [
       "688"
      ]
     },
     "execution_count": 61,
     "metadata": {},
     "output_type": "execute_result"
    }
   ],
   "source": [
    "len(df_all)"
   ]
  },
  {
   "cell_type": "code",
   "execution_count": 62,
   "metadata": {},
   "outputs": [],
   "source": [
    "dfall_alt = {}\n",
    "dfs_alt ={}\n",
    "for i in df_all.keys():\n",
    "    if i in df_s:\n",
    "        dfall_alt[i] = df_all[i] - df_s[i]\n",
    "        dfs_alt[i] = df_s[i]\n",
    "    else:\n",
    "        dfall_alt[i] = df_all[i]\n",
    "        dfs_alt[i] = 0\n",
    "    "
   ]
  },
  {
   "cell_type": "code",
   "execution_count": 63,
   "metadata": {
    "scrolled": true
   },
   "outputs": [
    {
     "name": "stdout",
     "output_type": "stream",
     "text": [
      "688 688\n"
     ]
    }
   ],
   "source": [
    "print(len(dfall_alt), len(dfs_alt))"
   ]
  },
  {
   "cell_type": "code",
   "execution_count": 64,
   "metadata": {},
   "outputs": [
    {
     "data": {
      "text/plain": [
       "1159"
      ]
     },
     "execution_count": 64,
     "metadata": {},
     "output_type": "execute_result"
    }
   ],
   "source": [
    "dfall_alt[1000]"
   ]
  },
  {
   "cell_type": "code",
   "execution_count": 65,
   "metadata": {},
   "outputs": [
    {
     "data": {
      "text/plain": [
       "1167"
      ]
     },
     "execution_count": 65,
     "metadata": {},
     "output_type": "execute_result"
    }
   ],
   "source": [
    "df_all[1000]"
   ]
  },
  {
   "cell_type": "code",
   "execution_count": 66,
   "metadata": {},
   "outputs": [
    {
     "data": {
      "text/plain": [
       "8"
      ]
     },
     "execution_count": 66,
     "metadata": {},
     "output_type": "execute_result"
    }
   ],
   "source": [
    "df_s[1000]"
   ]
  },
  {
   "cell_type": "code",
   "execution_count": 67,
   "metadata": {},
   "outputs": [
    {
     "data": {
      "text/plain": [
       "8"
      ]
     },
     "execution_count": 67,
     "metadata": {},
     "output_type": "execute_result"
    }
   ],
   "source": [
    "dfs_alt[1000]"
   ]
  },
  {
   "cell_type": "code",
   "execution_count": 68,
   "metadata": {},
   "outputs": [],
   "source": [
    "salt_log = {math.log10(k):v for k,v in dfs_alt.items()}"
   ]
  },
  {
   "cell_type": "code",
   "execution_count": 69,
   "metadata": {},
   "outputs": [
    {
     "data": {
      "text/plain": [
       "8"
      ]
     },
     "execution_count": 69,
     "metadata": {},
     "output_type": "execute_result"
    }
   ],
   "source": [
    "salt_log[3]"
   ]
  },
  {
   "cell_type": "code",
   "execution_count": 70,
   "metadata": {},
   "outputs": [],
   "source": [
    "allalt_log = {math.log10(k):v for k,v in dfall_alt.items()}"
   ]
  },
  {
   "cell_type": "code",
   "execution_count": 71,
   "metadata": {},
   "outputs": [
    {
     "data": {
      "text/plain": [
       "1159"
      ]
     },
     "execution_count": 71,
     "metadata": {},
     "output_type": "execute_result"
    }
   ],
   "source": [
    "allalt_log[3]"
   ]
  },
  {
   "cell_type": "code",
   "execution_count": 72,
   "metadata": {},
   "outputs": [],
   "source": [
    "bins = [x / 100.0 for x in range(0, 310, 5)]"
   ]
  },
  {
   "cell_type": "code",
   "execution_count": 73,
   "metadata": {},
   "outputs": [],
   "source": [
    "i = 1\n",
    "li_bi = []\n",
    "for j in range(len(bins)-1):\n",
    "    #print(j)\n",
    "    li_bi.append((bins[j],bins[i]))\n",
    "    i+=1"
   ]
  },
  {
   "cell_type": "code",
   "execution_count": 74,
   "metadata": {},
   "outputs": [],
   "source": [
    "bin_dic1 = {i:0 for i in li_bi}"
   ]
  },
  {
   "cell_type": "code",
   "execution_count": 75,
   "metadata": {},
   "outputs": [],
   "source": [
    "for k,v in allalt_log.items():\n",
    "    for i in bin_dic1.keys():\n",
    "        if k<=i[1] and k>i[0]:\n",
    "            bin_dic1[i] += v\n",
    "    "
   ]
  },
  {
   "cell_type": "code",
   "execution_count": 76,
   "metadata": {},
   "outputs": [],
   "source": [
    "bin_dic2 = {i:0 for i in li_bi}"
   ]
  },
  {
   "cell_type": "code",
   "execution_count": 77,
   "metadata": {},
   "outputs": [],
   "source": [
    "for k,v in salt_log.items():\n",
    "    for i in bin_dic2.keys():\n",
    "        if k<=i[1] and k>i[0]:\n",
    "            bin_dic2[i] += v\n",
    "    "
   ]
  },
  {
   "cell_type": "code",
   "execution_count": 78,
   "metadata": {},
   "outputs": [],
   "source": [
    "new_bin1 = {}\n",
    "for k,v in bin_dic1.items():\n",
    "    #print(k,v)\n",
    "    new_bin1[k[1]] = v"
   ]
  },
  {
   "cell_type": "code",
   "execution_count": 79,
   "metadata": {},
   "outputs": [],
   "source": [
    "new_bin2 = {}\n",
    "for k,v in bin_dic2.items():\n",
    "    #print(k,v)\n",
    "    new_bin2[k[1]] = v"
   ]
  },
  {
   "cell_type": "code",
   "execution_count": 80,
   "metadata": {},
   "outputs": [
    {
     "data": {
      "image/png": "[encoded data removed]",
      "text/plain": [
       "<Figure size 432x288 with 1 Axes>"
      ]
     },
     "metadata": {
      "needs_background": "light"
     },
     "output_type": "display_data"
    }
   ],
   "source": [
    "fig, ax = plt.subplots()\n",
    "ax.bar(list(new_bin1.keys()), list(new_bin1.values()), align='edge', width=0.05, label='not_ann')\n",
    "ax.bar(list(new_bin2.keys()), list(new_bin2.values()), width=0.05, bottom=list(new_bin1.values()),\n",
    "       label='ann', align='edge')\n",
    "plt.title('DNA', fontsize=20)\n",
    "plt.xlabel('n map (log10 scale)', fontsize=20)\n",
    "plt.ylabel('Count', fontsize=20)\n",
    "ax.legend()\n",
    "\n",
    "plt.savefig('dna_ann_noann.png')"
   ]
  },
  {
   "cell_type": "code",
   "execution_count": 89,
   "metadata": {},
   "outputs": [
    {
     "data": {
      "text/plain": [
       "[1, 3.2, 10, 31.6, 100, 316.2, 1000]"
      ]
     },
     "execution_count": 89,
     "metadata": {},
     "output_type": "execute_result"
    }
   ],
   "source": [
    "x = [0, 0.5, 1, 1.5,2,2.5,3]\n",
    "labels = [round(pow(10,i),1) for i in x]\n",
    "labels"
   ]
  },
  {
   "cell_type": "code",
   "execution_count": 86,
   "metadata": {},
   "outputs": [
    {
     "data": {
      "text/plain": [
       "3162.2776601683795"
      ]
     },
     "execution_count": 86,
     "metadata": {},
     "output_type": "execute_result"
    }
   ],
   "source": [
    "pow(10,3.5)"
   ]
  },
  {
   "cell_type": "code",
   "execution_count": 90,
   "metadata": {},
   "outputs": [
    {
     "data": {
      "image/png": "[encoded data removed]",
      "text/plain": [
       "<Figure size 432x288 with 1 Axes>"
      ]
     },
     "metadata": {
      "needs_background": "light"
     },
     "output_type": "display_data"
    }
   ],
   "source": [
    "fig, ax = plt.subplots()\n",
    "ax.bar(list(new_bin1.keys()), list(new_bin1.values()), align='edge', width=0.05, label='not_ann')\n",
    "ax.bar(list(new_bin2.keys()), list(new_bin2.values()), width=0.05, bottom=list(new_bin1.values()),\n",
    "       label='ann', align='edge')\n",
    "plt.title('DNA', fontsize=20)\n",
    "plt.xlabel('n map (log10 scale)', fontsize=20)\n",
    "plt.ylabel('Count', fontsize=20)\n",
    "plt.xticks(x, labels, rotation ='vertical')\n",
    "ax.legend()\n",
    "\n",
    "plt.savefig('dna_ann_noann.png')"
   ]
  },
  {
   "cell_type": "code",
   "execution_count": null,
   "metadata": {},
   "outputs": [],
   "source": []
  }
 ],
 "metadata": {
  "kernelspec": {
   "display_name": "Python 3",
   "language": "python",
   "name": "python3"
  },
  "language_info": {
   "codemirror_mode": {
    "name": "ipython",
    "version": 3
   },
   "file_extension": ".py",
   "mimetype": "text/x-python",
   "name": "python",
   "nbconvert_exporter": "python",
   "pygments_lexer": "ipython3",
   "version": "3.7.4"
  }
 },
 "nbformat": 4,
 "nbformat_minor": 2
}
