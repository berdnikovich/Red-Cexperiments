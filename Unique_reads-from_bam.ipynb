{
 "cells": [
  {
   "cell_type": "code",
   "execution_count": 1,
   "metadata": {},
   "outputs": [],
   "source": [
    "import pysam"
   ]
  },
  {
   "cell_type": "markdown",
   "metadata": {},
   "source": [
    "a.query_name, a.query_sequence, a.tags"
   ]
  },
  {
   "cell_type": "code",
   "execution_count": 2,
   "metadata": {},
   "outputs": [],
   "source": [
    "samfile = pysam.AlignmentFile(\"short.sam\", \"rb\")"
   ]
  },
  {
   "cell_type": "code",
   "execution_count": 3,
   "metadata": {},
   "outputs": [],
   "source": [
    "with open('mfasta.fasta', 'w') as to_file:\n",
    "    ind = 0\n",
    "    for i in samfile:\n",
    "        if i.query_name != ind:\n",
    "            try:\n",
    "                to_file.write('>{0}.{1}\\n'.format(i.query_name, i.tags[-1][1]))\n",
    "                to_file.write('{0}\\n'.format(i.query_sequence))\n",
    "                ind = i.query_name\n",
    "            except IndexError:\n",
    "                with open('worst_reads.sam', 'w') as to_bed_file:\n",
    "                    to_bed_file.write('{0}\\n'.format(i.query_name)) \n",
    "        else:\n",
    "            ind = i.query_name"
   ]
  },
  {
   "cell_type": "code",
   "execution_count": null,
   "metadata": {},
   "outputs": [],
   "source": []
  }
 ],
 "metadata": {
  "kernelspec": {
   "display_name": "Python 3",
   "language": "python",
   "name": "python3"
  },
  "language_info": {
   "codemirror_mode": {
    "name": "ipython",
    "version": 3
   },
   "file_extension": ".py",
   "mimetype": "text/x-python",
   "name": "python",
   "nbconvert_exporter": "python",
   "pygments_lexer": "ipython3",
   "version": "3.7.4"
  }
 },
 "nbformat": 4,
 "nbformat_minor": 2
}
