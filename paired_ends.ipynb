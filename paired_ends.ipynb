{
 "cells": [
  {
   "cell_type": "code",
   "execution_count": 89,
   "metadata": {},
   "outputs": [],
   "source": [
    "rna = open('rna.bed', 'r')\n",
    "dna = open('dna.bed', 'r')\n",
    "idsss = open('my_ID_count1_count2.bed', 'w')"
   ]
  },
  {
   "cell_type": "code",
   "execution_count": 90,
   "metadata": {},
   "outputs": [],
   "source": [
    "ids = 'D00795:30:CA2UTANXX:1:1101:10015:51762'\n",
    "ids2 = 'D00795:30:CA2UTANXX:1:1101:10016:51762'"
   ]
  },
  {
   "cell_type": "code",
   "execution_count": 91,
   "metadata": {},
   "outputs": [],
   "source": [
    "#compare = True,True if id1=id2; compare = False,True  if id1>id2;compare = False,False id1<id2\n",
    "def compare(id1, id2):\n",
    "    ids1 = id1.split(':')[-2:]\n",
    "    ids2 = id2.split(':')[-2:]\n",
    "    #boolian = True\n",
    "    #ind = True\n",
    "    if ids1[0] == ids2[0]:\n",
    "        if ids1[1] == ids2[1]:\n",
    "            boolian = True\n",
    "            ind = True\n",
    "        else:\n",
    "            boolian = False\n",
    "            ind = ids1[1] > ids2[1]      \n",
    "    else:\n",
    "        boolian = False\n",
    "        ind = ids1[0] > ids2[0]\n",
    "    return boolian, ind"
   ]
  },
  {
   "cell_type": "code",
   "execution_count": 92,
   "metadata": {},
   "outputs": [
    {
     "data": {
      "text/plain": [
       "False"
      ]
     },
     "execution_count": 92,
     "metadata": {},
     "output_type": "execute_result"
    }
   ],
   "source": [
    "compare(ids, ids2)[0]"
   ]
  },
  {
   "cell_type": "code",
   "execution_count": 93,
   "metadata": {},
   "outputs": [],
   "source": [
    "import itertools as itertools "
   ]
  },
  {
   "cell_type": "markdown",
   "metadata": {},
   "source": [
    "get the last string number"
   ]
  },
  {
   "cell_type": "markdown",
   "metadata": {},
   "source": [
    "разобраться с четностью нечетностью"
   ]
  },
  {
   "cell_type": "code",
   "execution_count": 94,
   "metadata": {},
   "outputs": [
    {
     "name": "stdout",
     "output_type": "stream",
     "text": [
      "hey1\n",
      "no!\n",
      "no!\n",
      "no!\n",
      "no!\n",
      "no!\n",
      "no!\n",
      "no!\n",
      "no!\n",
      "no!\n",
      "no!\n",
      "no!\n",
      "no!\n",
      "no!\n",
      "no!\n",
      "no!\n",
      "no!\n",
      "no!\n",
      "no!\n",
      "no!\n",
      "hey1\n",
      "no!\n",
      "no!\n",
      "no!\n",
      "no!\n",
      "no!\n",
      "no!\n",
      "hey1\n",
      "no!\n",
      "no!\n",
      "no!\n",
      "no!\n",
      "hey1\n",
      "no!\n",
      "no!\n",
      "no!\n",
      "no!\n",
      "no!\n",
      "no!\n",
      "no!\n",
      "no!\n",
      "no!\n",
      "no!\n",
      "no!\n",
      "no!\n",
      "no!\n",
      "no!\n",
      "no!\n",
      "no!\n",
      "no!\n",
      "no!\n",
      "no!\n",
      "no!\n",
      "no!\n",
      "no!\n",
      "no!\n",
      "no!\n",
      "no!\n",
      "no!\n",
      "no!\n",
      "no!\n",
      "no!\n",
      "no!\n",
      "no!\n",
      "no!\n",
      "no!\n",
      "no!\n",
      "no!\n",
      "no!\n",
      "no!\n",
      "no!\n",
      "no!\n",
      "no!\n",
      "no!\n",
      "no!\n",
      "no!\n",
      "no!\n",
      "no!\n",
      "no!\n",
      "no!\n",
      "hey1\n",
      "no!\n",
      "no!\n",
      "hey1\n",
      "no!\n",
      "no!\n",
      "no!\n",
      "no!\n",
      "no!\n",
      "hey1\n",
      "no!\n",
      "no!\n",
      "no!\n",
      "no!\n",
      "no!\n",
      "no!\n",
      "no!\n",
      "hey1\n",
      "no!\n",
      "no!\n"
     ]
    }
   ],
   "source": [
    "for line in dna:\n",
    "    lines = line.strip().split('\\t')\n",
    "    id1 = lines[0]\n",
    "    i = 0\n",
    "    j = 99# индекс последней строки\n",
    "    inds_of_find = True\n",
    "    while j-i > 1:\n",
    "        ind = (i+j)//2\n",
    "        rna.seek(0)\n",
    "        liness = list(itertools.islice(rna,ind, ind+1))[0].split('\\t')#возвращает список из 1 элемента срезаем его - получаем строку и после сплитим\n",
    "        id2 = liness[0]\n",
    "        if compare(id1, id2)[0]:\n",
    "            idsss.write('{0}\\t{1}\\t{2}\\t{3}'.format(id1, id2, lines[1], liness[1]))\n",
    "            inds_of_find = False\n",
    "            print('hey1')\n",
    "            break#как только нашли совпадение цикл можно не продолжать\n",
    "        else:\n",
    "            if compare(id1, id2)[1]:#тот случай если id1 - лежит ниже по списку;id1>id2\n",
    "                i = ind   \n",
    "            else:#тот случай если id1 - лежит выше по списку;id1<id2\n",
    "                j = ind\n",
    "    \n",
    "    if inds_of_find:#i,j остались от цикла\n",
    "        rna.seek(0)\n",
    "        idl_up = list(itertools.islice(rna,i, i+1))[0].split('\\t')\n",
    "        id_up = idl_up[0]\n",
    "        if compare(id1, id_up)[0]:\n",
    "            idsss.write('{0}\\t{1}\\t{2}\\t{3}'.format(id1,id_up, lines[1], idl_up[1]))\n",
    "            print('hey2')\n",
    "        else:\n",
    "            rna.seek(0)\n",
    "            idl_down = list(itertools.islice(rna,j, j+1))[0].split('\\t')\n",
    "            id_down = idl_down[0]\n",
    "            if compare(id1, id_down)[0]:\n",
    "                idsss.write('{0}\\t{1}\\t{2}\\t{3}'.format(id1,id_down, lines[1], idl_down[1]))\n",
    "                print('hey3')\n",
    "            else:\n",
    "                print('no!')"
   ]
  },
  {
   "cell_type": "code",
   "execution_count": 95,
   "metadata": {},
   "outputs": [],
   "source": [
    "idsss.close()"
   ]
  },
  {
   "cell_type": "code",
   "execution_count": 25,
   "metadata": {},
   "outputs": [],
   "source": [
    "a = next(itertools.islice(rna,5,5+1), None)"
   ]
  },
  {
   "cell_type": "code",
   "execution_count": 51,
   "metadata": {},
   "outputs": [],
   "source": [
    "rest_of_file = itertools.islice(rna,5, 6)\n"
   ]
  },
  {
   "cell_type": "code",
   "execution_count": 80,
   "metadata": {},
   "outputs": [],
   "source": [
    "rna = open('rna.bed', 'r')"
   ]
  },
  {
   "cell_type": "code",
   "execution_count": 108,
   "metadata": {},
   "outputs": [
    {
     "name": "stdout",
     "output_type": "stream",
     "text": [
      "['D00795:30:CA2UTANXX:1:1101:10000:13804\\t1\\n']\n"
     ]
    }
   ],
   "source": [
    "rna.seek(0)\n",
    "a = list(itertools.islice(rna,0, 1))\n",
    "print(a)"
   ]
  },
  {
   "cell_type": "code",
   "execution_count": 109,
   "metadata": {},
   "outputs": [
    {
     "data": {
      "text/plain": [
       "['D00795:30:CA2UTANXX:1:1101:10001:21903\\t1\\n']"
      ]
     },
     "execution_count": 109,
     "metadata": {},
     "output_type": "execute_result"
    }
   ],
   "source": [
    "list(itertools.islice(rna,0, 1))"
   ]
  },
  {
   "cell_type": "code",
   "execution_count": 116,
   "metadata": {},
   "outputs": [
    {
     "data": {
      "text/plain": [
       "0"
      ]
     },
     "execution_count": 116,
     "metadata": {},
     "output_type": "execute_result"
    }
   ],
   "source": [
    "rna.seek(0)"
   ]
  },
  {
   "cell_type": "code",
   "execution_count": 117,
   "metadata": {},
   "outputs": [
    {
     "data": {
      "text/plain": [
       "['D00795:30:CA2UTANXX:1:1101:10115:61643\\t1\\n']"
      ]
     },
     "execution_count": 117,
     "metadata": {},
     "output_type": "execute_result"
    }
   ],
   "source": [
    "list(itertools.islice(rna,99, 100))"
   ]
  },
  {
   "cell_type": "code",
   "execution_count": 24,
   "metadata": {},
   "outputs": [
    {
     "data": {
      "text/plain": [
       "True"
      ]
     },
     "execution_count": 24,
     "metadata": {},
     "output_type": "execute_result"
    }
   ],
   "source": [
    "(6-5)//2 >=0"
   ]
  },
  {
   "cell_type": "code",
   "execution_count": null,
   "metadata": {},
   "outputs": [],
   "source": []
  }
 ],
 "metadata": {
  "kernelspec": {
   "display_name": "Python 3",
   "language": "python",
   "name": "python3"
  },
  "language_info": {
   "codemirror_mode": {
    "name": "ipython",
    "version": 3
   },
   "file_extension": ".py",
   "mimetype": "text/x-python",
   "name": "python",
   "nbconvert_exporter": "python",
   "pygments_lexer": "ipython3",
   "version": "3.7.4"
  }
 },
 "nbformat": 4,
 "nbformat_minor": 2
}
